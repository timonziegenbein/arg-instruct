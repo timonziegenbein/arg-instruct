{
 "cells": [
  {
   "cell_type": "markdown",
   "metadata": {},
   "source": [
    "Note: The script uses Berkeley Neural Parser to parse the generated instructions, and visualize the results using Plotly.\n",
    "\n",
    "Please make sure to install benepar following their documentation [here](https://github.com/nikitakit/self-attentive-parser#installation)."
   ]
  },
  {
   "cell_type": "code",
   "execution_count": 50,
   "metadata": {
    "execution": {
     "iopub.execute_input": "2025-01-22T10:23:03.313593Z",
     "iopub.status.busy": "2025-01-22T10:23:03.313363Z",
     "iopub.status.idle": "2025-01-22T10:23:03.316282Z",
     "shell.execute_reply": "2025-01-22T10:23:03.315818Z",
     "shell.execute_reply.started": "2025-01-22T10:23:03.313575Z"
    },
    "tags": []
   },
   "outputs": [],
   "source": [
    "import numpy as np\n",
    "import pandas as pd\n",
    "pd.set_option('display.max_colwidth', None)\n",
    "import json\n",
    "import tqdm\n",
    "import random"
   ]
  },
  {
   "cell_type": "code",
   "execution_count": null,
   "metadata": {
    "tags": []
   },
   "outputs": [],
   "source": [
    "import benepar, spacy\n",
    "nlp = spacy.load('en_core_web_md')\n",
    "doc = nlp(\"The time for action is now. It's never too late to do something.\")\n",
    "\n",
    "if spacy.__version__.startswith('2'):\n",
    "    nlp.add_pipe(benepar.BeneparComponent(\"benepar_en3\"))\n",
    "else:\n",
    "    nlp.add_pipe(\"benepar\", config={\"model\": \"benepar_en3\"})"
   ]
  },
  {
   "cell_type": "code",
   "execution_count": 78,
   "metadata": {
    "execution": {
     "iopub.execute_input": "2025-01-21T14:09:00.486021Z",
     "iopub.status.busy": "2025-01-21T14:09:00.485615Z",
     "iopub.status.idle": "2025-01-21T14:09:00.935929Z",
     "shell.execute_reply": "2025-01-21T14:09:00.935498Z",
     "shell.execute_reply.started": "2025-01-21T14:09:00.485998Z"
    },
    "tags": []
   },
   "outputs": [
    {
     "data": {
      "text/plain": [
       "('write', 'story')"
      ]
     },
     "execution_count": 78,
     "metadata": {},
     "output_type": "execute_result"
    }
   ],
   "source": [
    "def find_root_verb_and_its_dobj(tree_root):\n",
    "    # first check if the current node and its children satisfy the condition\n",
    "    if tree_root.pos_ == \"VERB\":\n",
    "        for child in tree_root.children:\n",
    "            if child.dep_ == \"dobj\" and child.pos_ == \"NOUN\":\n",
    "                return tree_root.lemma_, child.lemma_\n",
    "        return tree_root.lemma_, None\n",
    "    # if not, check its children\n",
    "    for child in tree_root.children:\n",
    "        return find_root_verb_and_its_dobj(child)\n",
    "    # if no children satisfy the condition, return None\n",
    "    return None, None\n",
    "\n",
    "def find_root_verb_and_its_dobj_in_string(s):\n",
    "    doc = nlp(s)\n",
    "    last_sent = list(doc.sents)[-1]\n",
    "    return find_root_verb_and_its_dobj(last_sent.root)\n",
    "\n",
    "find_root_verb_and_its_dobj_in_string(\"Write me a story about education.\")"
   ]
  },
  {
   "cell_type": "code",
   "execution_count": 2,
   "metadata": {
    "execution": {
     "iopub.execute_input": "2025-01-22T09:39:39.053662Z",
     "iopub.status.busy": "2025-01-22T09:39:39.053473Z",
     "iopub.status.idle": "2025-01-22T09:39:43.602498Z",
     "shell.execute_reply": "2025-01-22T09:39:43.601789Z",
     "shell.execute_reply.started": "2025-01-22T09:39:39.053646Z"
    },
    "tags": []
   },
   "outputs": [],
   "source": [
    "generated_data_path = \"../../data/self_instruct_llm_generations_maja/finetuning/sampled_generated_train_instances_52445.json\" #machine_generated_instructions.jsonl\"\n",
    "machine_generated_tasks = []\n",
    "with open(generated_data_path, 'r') as fin:\n",
    "    machine_generated_tasks= json.loads(fin.readline())"
   ]
  },
  {
   "cell_type": "code",
   "execution_count": 3,
   "metadata": {
    "execution": {
     "iopub.execute_input": "2025-01-22T09:39:43.603293Z",
     "iopub.status.busy": "2025-01-22T09:39:43.603134Z",
     "iopub.status.idle": "2025-01-22T09:39:43.622609Z",
     "shell.execute_reply": "2025-01-22T09:39:43.622209Z",
     "shell.execute_reply.started": "2025-01-22T09:39:43.603276Z"
    },
    "tags": []
   },
   "outputs": [
    {
     "name": "stdout",
     "output_type": "stream",
     "text": [
      "52445\n"
     ]
    }
   ],
   "source": [
    "instructions = set([task[\"instruction\"] for task in machine_generated_tasks])\n",
    "print(len(instructions))"
   ]
  },
  {
   "cell_type": "code",
   "execution_count": null,
   "metadata": {
    "scrolled": true,
    "tags": []
   },
   "outputs": [],
   "source": [
    "raw_phrases = []\n",
    "for instruction in tqdm.tqdm(instructions):\n",
    "    try:\n",
    "        verb, noun = find_root_verb_and_its_dobj_in_string(instruction)\n",
    "        raw_phrases.append({\n",
    "            \"verb\": verb,\n",
    "            \"noun\": noun,\n",
    "            \"instruction\": instruction\n",
    "        })\n",
    "    except Exception as e:\n",
    "        print(e)\n",
    "        print(instruction)"
   ]
  },
  {
   "cell_type": "code",
   "execution_count": 56,
   "metadata": {
    "execution": {
     "iopub.execute_input": "2025-01-22T10:42:24.479992Z",
     "iopub.status.busy": "2025-01-22T10:42:24.479765Z",
     "iopub.status.idle": "2025-01-22T10:42:24.594711Z",
     "shell.execute_reply": "2025-01-22T10:42:24.594199Z",
     "shell.execute_reply.started": "2025-01-22T10:42:24.479974Z"
    },
    "tags": []
   },
   "outputs": [],
   "source": [
    "raw_phrases_df = pd.read_csv('raw_phrases_last_sent.csv', index_col=0)"
   ]
  },
  {
   "cell_type": "code",
   "execution_count": 57,
   "metadata": {
    "execution": {
     "iopub.execute_input": "2025-01-22T10:42:28.451713Z",
     "iopub.status.busy": "2025-01-22T10:42:28.451440Z",
     "iopub.status.idle": "2025-01-22T10:42:28.470286Z",
     "shell.execute_reply": "2025-01-22T10:42:28.469803Z",
     "shell.execute_reply.started": "2025-01-22T10:42:28.451694Z"
    },
    "tags": []
   },
   "outputs": [
    {
     "data": {
      "text/plain": [
       "verb      noun           \n",
       "use       argumentation      1853\n",
       "identify  fallacy             466\n",
       "          instance            339\n",
       "generate  counterargument     269\n",
       "identify  sentence            225\n",
       "                             ... \n",
       "write     structure             1\n",
       "          study                 1\n",
       "          question              1\n",
       "          solution              1\n",
       "accept    claim                 1\n",
       "Length: 4375, dtype: int64"
      ]
     },
     "execution_count": 57,
     "metadata": {},
     "output_type": "execute_result"
    }
   ],
   "source": [
    "#raw_phrases = pd.DataFrame(raw_phrases)\n",
    "phrases = pd.DataFrame(raw_phrases_df).dropna()\n",
    "phrases[[\"verb\", \"noun\"]].groupby([\"verb\", \"noun\"]).size().sort_values(ascending=False)"
   ]
  },
  {
   "cell_type": "code",
   "execution_count": 65,
   "metadata": {
    "execution": {
     "iopub.execute_input": "2025-01-22T10:48:33.716463Z",
     "iopub.status.busy": "2025-01-22T10:48:33.716179Z",
     "iopub.status.idle": "2025-01-22T10:48:34.920437Z",
     "shell.execute_reply": "2025-01-22T10:48:34.919823Z",
     "shell.execute_reply.started": "2025-01-22T10:48:33.716445Z"
    },
    "tags": []
   },
   "outputs": [
    {
     "data": {
      "text/html": [
       "<div>\n",
       "<style scoped>\n",
       "    .dataframe tbody tr th:only-of-type {\n",
       "        vertical-align: middle;\n",
       "    }\n",
       "\n",
       "    .dataframe tbody tr th {\n",
       "        vertical-align: top;\n",
       "    }\n",
       "\n",
       "    .dataframe thead th {\n",
       "        text-align: right;\n",
       "    }\n",
       "</style>\n",
       "<table border=\"1\" class=\"dataframe\">\n",
       "  <thead>\n",
       "    <tr style=\"text-align: right;\">\n",
       "      <th></th>\n",
       "      <th>verb</th>\n",
       "      <th>noun</th>\n",
       "      <th>instruction</th>\n",
       "    </tr>\n",
       "  </thead>\n",
       "  <tbody>\n",
       "    <tr>\n",
       "      <th>30</th>\n",
       "      <td>critique</td>\n",
       "      <td>tip</td>\n",
       "      <td>Given eleven tips provided by nutritionists for improving overall health through diet changes alone, critique each tip individually and propose modifications that could improve effectiveness without compromising safety guidelines established by regulatory agencies overseeing food production practices globally.</td>\n",
       "    </tr>\n",
       "    <tr>\n",
       "      <th>241</th>\n",
       "      <td>critique</td>\n",
       "      <td>use</td>\n",
       "      <td>Given a persuasive essay, critique the author's use of alliteration, assessing its effectiveness in emphasizing key points and creating a memorable impression.</td>\n",
       "    </tr>\n",
       "    <tr>\n",
       "      <th>686</th>\n",
       "      <td>critique</td>\n",
       "      <td>use</td>\n",
       "      <td>Given a persuasive essay, critique the author's use of clarity and conciseness, assessing how effectively the author communicates their ideas in a straightforward and concise manner without unnecessary jargon or complexity.</td>\n",
       "    </tr>\n",
       "    <tr>\n",
       "      <th>706</th>\n",
       "      <td>critique</td>\n",
       "      <td>use</td>\n",
       "      <td>Given a persuasive essay, critique the author's use of logical fallacies, assessing how effectively they avoid common errors in reasoning that weaken their argument.</td>\n",
       "    </tr>\n",
       "    <tr>\n",
       "      <th>718</th>\n",
       "      <td>critique</td>\n",
       "      <td>use</td>\n",
       "      <td>Given a persuasive essay, critique the author's use of introduction, evaluating how effectively the author hooks the reader and sets up their argument.</td>\n",
       "    </tr>\n",
       "    <tr>\n",
       "      <th>...</th>\n",
       "      <td>...</td>\n",
       "      <td>...</td>\n",
       "      <td>...</td>\n",
       "    </tr>\n",
       "    <tr>\n",
       "      <th>51990</th>\n",
       "      <td>critique</td>\n",
       "      <td>use</td>\n",
       "      <td>Given a persuasive essay, critique the author's use of hypothetical scenarios by assessing whether they create unrealistic situations that distract from the main point of the argument instead of clarifying complex concepts or illustrating potential consequences.</td>\n",
       "    </tr>\n",
       "    <tr>\n",
       "      <th>52008</th>\n",
       "      <td>critique</td>\n",
       "      <td>use</td>\n",
       "      <td>Given a persuasive essay, critique the author's use of metaphorical language, assessing how they create powerful comparisons that help readers understand complex ideas and concepts.</td>\n",
       "    </tr>\n",
       "    <tr>\n",
       "      <th>52050</th>\n",
       "      <td>critique</td>\n",
       "      <td>use</td>\n",
       "      <td>Given a persuasive essay, critique the author's use of language, assessing how effectively the author uses vocabulary, tone, and style to convey their ideas and persuade the reader.</td>\n",
       "    </tr>\n",
       "    <tr>\n",
       "      <th>52055</th>\n",
       "      <td>critique</td>\n",
       "      <td>style</td>\n",
       "      <td>Given an argument, critique its style and format, including grammar, punctuation, and sentence structure.</td>\n",
       "    </tr>\n",
       "    <tr>\n",
       "      <th>52154</th>\n",
       "      <td>critique</td>\n",
       "      <td>use</td>\n",
       "      <td>Given an argument, critique the author's use of metaphors, similes, and analogies, analyzing how effectively they use figurative language to convey complex ideas and persuade readers.</td>\n",
       "    </tr>\n",
       "  </tbody>\n",
       "</table>\n",
       "<p>301 rows × 3 columns</p>\n",
       "</div>"
      ],
      "text/plain": [
       "           verb   noun  \\\n",
       "30     critique    tip   \n",
       "241    critique    use   \n",
       "686    critique    use   \n",
       "706    critique    use   \n",
       "718    critique    use   \n",
       "...         ...    ...   \n",
       "51990  critique    use   \n",
       "52008  critique    use   \n",
       "52050  critique    use   \n",
       "52055  critique  style   \n",
       "52154  critique    use   \n",
       "\n",
       "                                                                                                                                                                                                                                                                                                                   instruction  \n",
       "30     Given eleven tips provided by nutritionists for improving overall health through diet changes alone, critique each tip individually and propose modifications that could improve effectiveness without compromising safety guidelines established by regulatory agencies overseeing food production practices globally.  \n",
       "241                                                                                                                                                            Given a persuasive essay, critique the author's use of alliteration, assessing its effectiveness in emphasizing key points and creating a memorable impression.  \n",
       "686                                                                                            Given a persuasive essay, critique the author's use of clarity and conciseness, assessing how effectively the author communicates their ideas in a straightforward and concise manner without unnecessary jargon or complexity.  \n",
       "706                                                                                                                                                      Given a persuasive essay, critique the author's use of logical fallacies, assessing how effectively they avoid common errors in reasoning that weaken their argument.  \n",
       "718                                                                                                                                                                    Given a persuasive essay, critique the author's use of introduction, evaluating how effectively the author hooks the reader and sets up their argument.  \n",
       "...                                                                                                                                                                                                                                                                                                                        ...  \n",
       "51990                                                   Given a persuasive essay, critique the author's use of hypothetical scenarios by assessing whether they create unrealistic situations that distract from the main point of the argument instead of clarifying complex concepts or illustrating potential consequences.  \n",
       "52008                                                                                                                                    Given a persuasive essay, critique the author's use of metaphorical language, assessing how they create powerful comparisons that help readers understand complex ideas and concepts.  \n",
       "52050                                                                                                                                    Given a persuasive essay, critique the author's use of language, assessing how effectively the author uses vocabulary, tone, and style to convey their ideas and persuade the reader.  \n",
       "52055                                                                                                                                                                                                                Given an argument, critique its style and format, including grammar, punctuation, and sentence structure.  \n",
       "52154                                                                                                                                  Given an argument, critique the author's use of metaphors, similes, and analogies, analyzing how effectively they use figurative language to convey complex ideas and persuade readers.  \n",
       "\n",
       "[301 rows x 3 columns]"
      ]
     },
     "execution_count": 65,
     "metadata": {},
     "output_type": "execute_result"
    }
   ],
   "source": [
    "phrases[phrases.verb=='critique']"
   ]
  },
  {
   "cell_type": "code",
   "execution_count": 59,
   "metadata": {
    "execution": {
     "iopub.execute_input": "2025-01-22T10:42:48.350230Z",
     "iopub.status.busy": "2025-01-22T10:42:48.349965Z",
     "iopub.status.idle": "2025-01-22T10:42:48.371106Z",
     "shell.execute_reply": "2025-01-22T10:42:48.370635Z",
     "shell.execute_reply.started": "2025-01-22T10:42:48.350207Z"
    },
    "tags": []
   },
   "outputs": [
    {
     "name": "stderr",
     "output_type": "stream",
     "text": [
      "/tmp/ipykernel_3818361/2244073857.py:10: DeprecationWarning:\n",
      "\n",
      "DataFrameGroupBy.apply operated on the grouping columns. This behavior is deprecated, and in a future version of pandas the grouping columns will be excluded from the operation. Either pass `include_groups=False` to exclude the groupings or explicitly select the grouping columns after groupby to silence this warning.\n",
      "\n"
     ]
    },
    {
     "data": {
      "text/html": [
       "<div>\n",
       "<style scoped>\n",
       "    .dataframe tbody tr th:only-of-type {\n",
       "        vertical-align: middle;\n",
       "    }\n",
       "\n",
       "    .dataframe tbody tr th {\n",
       "        vertical-align: top;\n",
       "    }\n",
       "\n",
       "    .dataframe thead th {\n",
       "        text-align: right;\n",
       "    }\n",
       "</style>\n",
       "<table border=\"1\" class=\"dataframe\">\n",
       "  <thead>\n",
       "    <tr style=\"text-align: right;\">\n",
       "      <th></th>\n",
       "      <th>verb</th>\n",
       "      <th>noun</th>\n",
       "      <th>count</th>\n",
       "    </tr>\n",
       "  </thead>\n",
       "  <tbody>\n",
       "    <tr>\n",
       "      <th>0</th>\n",
       "      <td>analyze</td>\n",
       "      <td>structure</td>\n",
       "      <td>53</td>\n",
       "    </tr>\n",
       "    <tr>\n",
       "      <th>1</th>\n",
       "      <td>analyze</td>\n",
       "      <td>tone</td>\n",
       "      <td>27</td>\n",
       "    </tr>\n",
       "    <tr>\n",
       "      <th>2</th>\n",
       "      <td>analyze</td>\n",
       "      <td>use</td>\n",
       "      <td>25</td>\n",
       "    </tr>\n",
       "    <tr>\n",
       "      <th>3</th>\n",
       "      <td>analyze</td>\n",
       "      <td>device</td>\n",
       "      <td>22</td>\n",
       "    </tr>\n",
       "    <tr>\n",
       "      <th>4</th>\n",
       "      <td>assess</td>\n",
       "      <td>effectiveness</td>\n",
       "      <td>31</td>\n",
       "    </tr>\n",
       "    <tr>\n",
       "      <th>...</th>\n",
       "      <td>...</td>\n",
       "      <td>...</td>\n",
       "      <td>...</td>\n",
       "    </tr>\n",
       "    <tr>\n",
       "      <th>75</th>\n",
       "      <td>use</td>\n",
       "      <td>appeal</td>\n",
       "      <td>27</td>\n",
       "    </tr>\n",
       "    <tr>\n",
       "      <th>76</th>\n",
       "      <td>write</td>\n",
       "      <td>essay</td>\n",
       "      <td>45</td>\n",
       "    </tr>\n",
       "    <tr>\n",
       "      <th>77</th>\n",
       "      <td>write</td>\n",
       "      <td>argument</td>\n",
       "      <td>27</td>\n",
       "    </tr>\n",
       "    <tr>\n",
       "      <th>78</th>\n",
       "      <td>write</td>\n",
       "      <td>paragraph</td>\n",
       "      <td>20</td>\n",
       "    </tr>\n",
       "    <tr>\n",
       "      <th>79</th>\n",
       "      <td>write</td>\n",
       "      <td>rebuttal</td>\n",
       "      <td>16</td>\n",
       "    </tr>\n",
       "  </tbody>\n",
       "</table>\n",
       "<p>80 rows × 3 columns</p>\n",
       "</div>"
      ],
      "text/plain": [
       "       verb           noun  count\n",
       "0   analyze      structure     53\n",
       "1   analyze           tone     27\n",
       "2   analyze            use     25\n",
       "3   analyze         device     22\n",
       "4    assess  effectiveness     31\n",
       "..      ...            ...    ...\n",
       "75      use         appeal     27\n",
       "76    write          essay     45\n",
       "77    write       argument     27\n",
       "78    write      paragraph     20\n",
       "79    write       rebuttal     16\n",
       "\n",
       "[80 rows x 3 columns]"
      ]
     },
     "execution_count": 59,
     "metadata": {},
     "output_type": "execute_result"
    }
   ],
   "source": [
    "top_verbs = phrases[[\"verb\"]].groupby([\"verb\"]).size().nlargest(20).reset_index()\n",
    "\n",
    "df = phrases[phrases[\"verb\"].isin(top_verbs[\"verb\"].tolist())]\n",
    "# df = df[~df[\"noun\"].isin([\"I\", \"what\"])]\n",
    "# df = phrases\n",
    "# df[~df[\"verb\"].isin(top_verbs[\"verb\"].tolist())][\"verb\"] = \"other\"\n",
    "# df[~df[\"verb\"].isin(top_verbs[\"verb\"].tolist())][\"noun\"] = \"other\"\n",
    "df = df.groupby([\"verb\", \"noun\"]).size().reset_index().rename(columns={0: \"count\"}).sort_values(by=[\"count\"], ascending=False)\n",
    "# df = df[df[\"count\"] > 10]\n",
    "df = df.groupby(\"verb\").apply(lambda x: x.sort_values(\"count\", ascending=False).head(4)).reset_index(drop=True)\n",
    "df"
   ]
  },
  {
   "cell_type": "code",
   "execution_count": 62,
   "metadata": {
    "execution": {
     "iopub.execute_input": "2025-01-22T10:43:45.987540Z",
     "iopub.status.busy": "2025-01-22T10:43:45.987275Z",
     "iopub.status.idle": "2025-01-22T10:43:45.991105Z",
     "shell.execute_reply": "2025-01-22T10:43:45.990639Z",
     "shell.execute_reply.started": "2025-01-22T10:43:45.987517Z"
    },
    "tags": []
   },
   "outputs": [
    {
     "data": {
      "text/plain": [
       "0.13812565544856517"
      ]
     },
     "execution_count": 62,
     "metadata": {},
     "output_type": "execute_result"
    }
   ],
   "source": [
    "sum(df['count'].to_list()) / len(machine_generated_tasks)"
   ]
  },
  {
   "cell_type": "code",
   "execution_count": 16,
   "metadata": {
    "execution": {
     "iopub.execute_input": "2025-01-22T09:42:22.565894Z",
     "iopub.status.busy": "2025-01-22T09:42:22.565660Z",
     "iopub.status.idle": "2025-01-22T09:42:22.569072Z",
     "shell.execute_reply": "2025-01-22T09:42:22.568698Z",
     "shell.execute_reply.started": "2025-01-22T09:42:22.565877Z"
    },
    "tags": []
   },
   "outputs": [
    {
     "data": {
      "text/plain": [
       "218.26786666666666"
      ]
     },
     "execution_count": 16,
     "metadata": {},
     "output_type": "execute_result"
    }
   ],
   "source": [
    "595.276 * (7.7 / (7.7*2+2.5*2+0.6))"
   ]
  },
  {
   "cell_type": "code",
   "execution_count": 45,
   "metadata": {
    "execution": {
     "iopub.execute_input": "2025-01-22T09:59:26.323414Z",
     "iopub.status.busy": "2025-01-22T09:59:26.323117Z",
     "iopub.status.idle": "2025-01-22T09:59:26.480547Z",
     "shell.execute_reply": "2025-01-22T09:59:26.480053Z",
     "shell.execute_reply.started": "2025-01-22T09:59:26.323395Z"
    },
    "tags": []
   },
   "outputs": [
    {
     "data": {
      "application/vnd.plotly.v1+json": {
       "config": {
        "plotlyServerURL": "https://plot.ly"
       },
       "data": [
        {
         "branchvalues": "total",
         "domain": {
          "x": [
           0,
           1
          ],
          "y": [
           0,
           1
          ]
         },
         "hovertemplate": "labels=%{label}<br>count=%{value}<br>parent=%{parent}<br>id=%{id}<extra></extra>",
         "ids": [
          "rate/acceptability",
          "contain/appeal",
          "classify/argument",
          "consider/argument",
          "generate/argument",
          "use/argument",
          "use/argumentation",
          "contain/attack",
          "contain/claim",
          "extract/claim",
          "generate/claim",
          "identify/claim",
          "select/claim",
          "generate/counterargument",
          "assess/effectiveness",
          "evaluate/effectiveness",
          "write/essay",
          "provide/evidence",
          "provide/example",
          "provide/explanation",
          "commit/fallacy",
          "contain/fallacy",
          "identify/fallacy",
          "provide/feedback",
          "find/instance",
          "identify/instance",
          "use/language",
          "find/one",
          "choose/option",
          "evaluate/quality",
          "rate/quality",
          "generate/rebuttal",
          "rate/relevance",
          "classify/sentence",
          "identify/sentence",
          "select/sentence",
          "classify/stance",
          "determine/stance",
          "evaluate/strength",
          "analyze/structure",
          "rate/sufficiency",
          "classify/type",
          "critique/use",
          "evaluate/use",
          "select/use",
          "analyze",
          "assess",
          "choose",
          "classify",
          "commit",
          "consider",
          "contain",
          "critique",
          "determine",
          "evaluate",
          "extract",
          "find",
          "generate",
          "identify",
          "provide",
          "rate",
          "select",
          "use",
          "write"
         ],
         "insidetextorientation": "radial",
         "labels": [
          "acceptability",
          "appeal",
          "argument",
          "argument",
          "argument",
          "argument",
          "argumentation",
          "attack",
          "claim",
          "claim",
          "claim",
          "claim",
          "claim",
          "counterargument",
          "effectiveness",
          "effectiveness",
          "essay",
          "evidence",
          "example",
          "explanation",
          "fallacy",
          "fallacy",
          "fallacy",
          "feedback",
          "instance",
          "instance",
          "language",
          "one",
          "option",
          "quality",
          "quality",
          "rebuttal",
          "relevance",
          "sentence",
          "sentence",
          "sentence",
          "stance",
          "stance",
          "strength",
          "structure",
          "sufficiency",
          "type",
          "use",
          "use",
          "use",
          "analyze",
          "assess",
          "choose",
          "classify",
          "commit",
          "consider",
          "contain",
          "critique",
          "determine",
          "evaluate",
          "extract",
          "find",
          "generate",
          "identify",
          "provide",
          "rate",
          "select",
          "use",
          "write"
         ],
         "marker": {
          "line": {
           "color": "white",
           "width": 0.5
          }
         },
         "name": "",
         "parents": [
          "rate",
          "contain",
          "classify",
          "consider",
          "generate",
          "use",
          "use",
          "contain",
          "contain",
          "extract",
          "generate",
          "identify",
          "select",
          "generate",
          "assess",
          "evaluate",
          "write",
          "provide",
          "provide",
          "provide",
          "commit",
          "contain",
          "identify",
          "provide",
          "find",
          "identify",
          "use",
          "find",
          "choose",
          "evaluate",
          "rate",
          "generate",
          "rate",
          "classify",
          "identify",
          "select",
          "classify",
          "determine",
          "evaluate",
          "analyze",
          "rate",
          "classify",
          "critique",
          "evaluate",
          "select",
          "",
          "",
          "",
          "",
          "",
          "",
          "",
          "",
          "",
          "",
          "",
          "",
          "",
          "",
          "",
          "",
          "",
          "",
          ""
         ],
         "textinfo": "label",
         "type": "sunburst",
         "values": [
          201,
          39,
          63,
          116,
          211,
          31,
          1853,
          35,
          37,
          46,
          182,
          217,
          33,
          269,
          31,
          62,
          45,
          68,
          40,
          41,
          157,
          135,
          466,
          52,
          133,
          339,
          38,
          146,
          36,
          57,
          94,
          105,
          155,
          76,
          225,
          32,
          37,
          61,
          110,
          53,
          126,
          57,
          182,
          46,
          61,
          53,
          31,
          36,
          233,
          157,
          116,
          246,
          182,
          61,
          275,
          46,
          279,
          767,
          1247,
          201,
          576,
          126,
          1922,
          45
         ]
        }
       ],
       "layout": {
        "autosize": false,
        "font": {
         "family": "Times New Roman",
         "size": 10
        },
        "height": 218.26,
        "legend": {
         "tracegroupgap": 0
        },
        "margin": {
         "b": 2,
         "l": 2,
         "r": 2,
         "t": 2
        },
        "template": {
         "data": {
          "bar": [
           {
            "error_x": {
             "color": "#2a3f5f"
            },
            "error_y": {
             "color": "#2a3f5f"
            },
            "marker": {
             "line": {
              "color": "#E5ECF6",
              "width": 0.5
             },
             "pattern": {
              "fillmode": "overlay",
              "size": 10,
              "solidity": 0.2
             }
            },
            "type": "bar"
           }
          ],
          "barpolar": [
           {
            "marker": {
             "line": {
              "color": "#E5ECF6",
              "width": 0.5
             },
             "pattern": {
              "fillmode": "overlay",
              "size": 10,
              "solidity": 0.2
             }
            },
            "type": "barpolar"
           }
          ],
          "carpet": [
           {
            "aaxis": {
             "endlinecolor": "#2a3f5f",
             "gridcolor": "white",
             "linecolor": "white",
             "minorgridcolor": "white",
             "startlinecolor": "#2a3f5f"
            },
            "baxis": {
             "endlinecolor": "#2a3f5f",
             "gridcolor": "white",
             "linecolor": "white",
             "minorgridcolor": "white",
             "startlinecolor": "#2a3f5f"
            },
            "type": "carpet"
           }
          ],
          "choropleth": [
           {
            "colorbar": {
             "outlinewidth": 0,
             "ticks": ""
            },
            "type": "choropleth"
           }
          ],
          "contour": [
           {
            "colorbar": {
             "outlinewidth": 0,
             "ticks": ""
            },
            "colorscale": [
             [
              0,
              "#0d0887"
             ],
             [
              0.1111111111111111,
              "#46039f"
             ],
             [
              0.2222222222222222,
              "#7201a8"
             ],
             [
              0.3333333333333333,
              "#9c179e"
             ],
             [
              0.4444444444444444,
              "#bd3786"
             ],
             [
              0.5555555555555556,
              "#d8576b"
             ],
             [
              0.6666666666666666,
              "#ed7953"
             ],
             [
              0.7777777777777778,
              "#fb9f3a"
             ],
             [
              0.8888888888888888,
              "#fdca26"
             ],
             [
              1,
              "#f0f921"
             ]
            ],
            "type": "contour"
           }
          ],
          "contourcarpet": [
           {
            "colorbar": {
             "outlinewidth": 0,
             "ticks": ""
            },
            "type": "contourcarpet"
           }
          ],
          "heatmap": [
           {
            "colorbar": {
             "outlinewidth": 0,
             "ticks": ""
            },
            "colorscale": [
             [
              0,
              "#0d0887"
             ],
             [
              0.1111111111111111,
              "#46039f"
             ],
             [
              0.2222222222222222,
              "#7201a8"
             ],
             [
              0.3333333333333333,
              "#9c179e"
             ],
             [
              0.4444444444444444,
              "#bd3786"
             ],
             [
              0.5555555555555556,
              "#d8576b"
             ],
             [
              0.6666666666666666,
              "#ed7953"
             ],
             [
              0.7777777777777778,
              "#fb9f3a"
             ],
             [
              0.8888888888888888,
              "#fdca26"
             ],
             [
              1,
              "#f0f921"
             ]
            ],
            "type": "heatmap"
           }
          ],
          "heatmapgl": [
           {
            "colorbar": {
             "outlinewidth": 0,
             "ticks": ""
            },
            "colorscale": [
             [
              0,
              "#0d0887"
             ],
             [
              0.1111111111111111,
              "#46039f"
             ],
             [
              0.2222222222222222,
              "#7201a8"
             ],
             [
              0.3333333333333333,
              "#9c179e"
             ],
             [
              0.4444444444444444,
              "#bd3786"
             ],
             [
              0.5555555555555556,
              "#d8576b"
             ],
             [
              0.6666666666666666,
              "#ed7953"
             ],
             [
              0.7777777777777778,
              "#fb9f3a"
             ],
             [
              0.8888888888888888,
              "#fdca26"
             ],
             [
              1,
              "#f0f921"
             ]
            ],
            "type": "heatmapgl"
           }
          ],
          "histogram": [
           {
            "marker": {
             "pattern": {
              "fillmode": "overlay",
              "size": 10,
              "solidity": 0.2
             }
            },
            "type": "histogram"
           }
          ],
          "histogram2d": [
           {
            "colorbar": {
             "outlinewidth": 0,
             "ticks": ""
            },
            "colorscale": [
             [
              0,
              "#0d0887"
             ],
             [
              0.1111111111111111,
              "#46039f"
             ],
             [
              0.2222222222222222,
              "#7201a8"
             ],
             [
              0.3333333333333333,
              "#9c179e"
             ],
             [
              0.4444444444444444,
              "#bd3786"
             ],
             [
              0.5555555555555556,
              "#d8576b"
             ],
             [
              0.6666666666666666,
              "#ed7953"
             ],
             [
              0.7777777777777778,
              "#fb9f3a"
             ],
             [
              0.8888888888888888,
              "#fdca26"
             ],
             [
              1,
              "#f0f921"
             ]
            ],
            "type": "histogram2d"
           }
          ],
          "histogram2dcontour": [
           {
            "colorbar": {
             "outlinewidth": 0,
             "ticks": ""
            },
            "colorscale": [
             [
              0,
              "#0d0887"
             ],
             [
              0.1111111111111111,
              "#46039f"
             ],
             [
              0.2222222222222222,
              "#7201a8"
             ],
             [
              0.3333333333333333,
              "#9c179e"
             ],
             [
              0.4444444444444444,
              "#bd3786"
             ],
             [
              0.5555555555555556,
              "#d8576b"
             ],
             [
              0.6666666666666666,
              "#ed7953"
             ],
             [
              0.7777777777777778,
              "#fb9f3a"
             ],
             [
              0.8888888888888888,
              "#fdca26"
             ],
             [
              1,
              "#f0f921"
             ]
            ],
            "type": "histogram2dcontour"
           }
          ],
          "mesh3d": [
           {
            "colorbar": {
             "outlinewidth": 0,
             "ticks": ""
            },
            "type": "mesh3d"
           }
          ],
          "parcoords": [
           {
            "line": {
             "colorbar": {
              "outlinewidth": 0,
              "ticks": ""
             }
            },
            "type": "parcoords"
           }
          ],
          "pie": [
           {
            "automargin": true,
            "type": "pie"
           }
          ],
          "scatter": [
           {
            "fillpattern": {
             "fillmode": "overlay",
             "size": 10,
             "solidity": 0.2
            },
            "type": "scatter"
           }
          ],
          "scatter3d": [
           {
            "line": {
             "colorbar": {
              "outlinewidth": 0,
              "ticks": ""
             }
            },
            "marker": {
             "colorbar": {
              "outlinewidth": 0,
              "ticks": ""
             }
            },
            "type": "scatter3d"
           }
          ],
          "scattercarpet": [
           {
            "marker": {
             "colorbar": {
              "outlinewidth": 0,
              "ticks": ""
             }
            },
            "type": "scattercarpet"
           }
          ],
          "scattergeo": [
           {
            "marker": {
             "colorbar": {
              "outlinewidth": 0,
              "ticks": ""
             }
            },
            "type": "scattergeo"
           }
          ],
          "scattergl": [
           {
            "marker": {
             "colorbar": {
              "outlinewidth": 0,
              "ticks": ""
             }
            },
            "type": "scattergl"
           }
          ],
          "scattermapbox": [
           {
            "marker": {
             "colorbar": {
              "outlinewidth": 0,
              "ticks": ""
             }
            },
            "type": "scattermapbox"
           }
          ],
          "scatterpolar": [
           {
            "marker": {
             "colorbar": {
              "outlinewidth": 0,
              "ticks": ""
             }
            },
            "type": "scatterpolar"
           }
          ],
          "scatterpolargl": [
           {
            "marker": {
             "colorbar": {
              "outlinewidth": 0,
              "ticks": ""
             }
            },
            "type": "scatterpolargl"
           }
          ],
          "scatterternary": [
           {
            "marker": {
             "colorbar": {
              "outlinewidth": 0,
              "ticks": ""
             }
            },
            "type": "scatterternary"
           }
          ],
          "surface": [
           {
            "colorbar": {
             "outlinewidth": 0,
             "ticks": ""
            },
            "colorscale": [
             [
              0,
              "#0d0887"
             ],
             [
              0.1111111111111111,
              "#46039f"
             ],
             [
              0.2222222222222222,
              "#7201a8"
             ],
             [
              0.3333333333333333,
              "#9c179e"
             ],
             [
              0.4444444444444444,
              "#bd3786"
             ],
             [
              0.5555555555555556,
              "#d8576b"
             ],
             [
              0.6666666666666666,
              "#ed7953"
             ],
             [
              0.7777777777777778,
              "#fb9f3a"
             ],
             [
              0.8888888888888888,
              "#fdca26"
             ],
             [
              1,
              "#f0f921"
             ]
            ],
            "type": "surface"
           }
          ],
          "table": [
           {
            "cells": {
             "fill": {
              "color": "#EBF0F8"
             },
             "line": {
              "color": "white"
             }
            },
            "header": {
             "fill": {
              "color": "#C8D4E3"
             },
             "line": {
              "color": "white"
             }
            },
            "type": "table"
           }
          ]
         },
         "layout": {
          "annotationdefaults": {
           "arrowcolor": "#2a3f5f",
           "arrowhead": 0,
           "arrowwidth": 1
          },
          "autotypenumbers": "strict",
          "coloraxis": {
           "colorbar": {
            "outlinewidth": 0,
            "ticks": ""
           }
          },
          "colorscale": {
           "diverging": [
            [
             0,
             "#8e0152"
            ],
            [
             0.1,
             "#c51b7d"
            ],
            [
             0.2,
             "#de77ae"
            ],
            [
             0.3,
             "#f1b6da"
            ],
            [
             0.4,
             "#fde0ef"
            ],
            [
             0.5,
             "#f7f7f7"
            ],
            [
             0.6,
             "#e6f5d0"
            ],
            [
             0.7,
             "#b8e186"
            ],
            [
             0.8,
             "#7fbc41"
            ],
            [
             0.9,
             "#4d9221"
            ],
            [
             1,
             "#276419"
            ]
           ],
           "sequential": [
            [
             0,
             "#0d0887"
            ],
            [
             0.1111111111111111,
             "#46039f"
            ],
            [
             0.2222222222222222,
             "#7201a8"
            ],
            [
             0.3333333333333333,
             "#9c179e"
            ],
            [
             0.4444444444444444,
             "#bd3786"
            ],
            [
             0.5555555555555556,
             "#d8576b"
            ],
            [
             0.6666666666666666,
             "#ed7953"
            ],
            [
             0.7777777777777778,
             "#fb9f3a"
            ],
            [
             0.8888888888888888,
             "#fdca26"
            ],
            [
             1,
             "#f0f921"
            ]
           ],
           "sequentialminus": [
            [
             0,
             "#0d0887"
            ],
            [
             0.1111111111111111,
             "#46039f"
            ],
            [
             0.2222222222222222,
             "#7201a8"
            ],
            [
             0.3333333333333333,
             "#9c179e"
            ],
            [
             0.4444444444444444,
             "#bd3786"
            ],
            [
             0.5555555555555556,
             "#d8576b"
            ],
            [
             0.6666666666666666,
             "#ed7953"
            ],
            [
             0.7777777777777778,
             "#fb9f3a"
            ],
            [
             0.8888888888888888,
             "#fdca26"
            ],
            [
             1,
             "#f0f921"
            ]
           ]
          },
          "colorway": [
           "#636efa",
           "#EF553B",
           "#00cc96",
           "#ab63fa",
           "#FFA15A",
           "#19d3f3",
           "#FF6692",
           "#B6E880",
           "#FF97FF",
           "#FECB52"
          ],
          "font": {
           "color": "#2a3f5f"
          },
          "geo": {
           "bgcolor": "white",
           "lakecolor": "white",
           "landcolor": "#E5ECF6",
           "showlakes": true,
           "showland": true,
           "subunitcolor": "white"
          },
          "hoverlabel": {
           "align": "left"
          },
          "hovermode": "closest",
          "mapbox": {
           "style": "light"
          },
          "paper_bgcolor": "white",
          "plot_bgcolor": "#E5ECF6",
          "polar": {
           "angularaxis": {
            "gridcolor": "white",
            "linecolor": "white",
            "ticks": ""
           },
           "bgcolor": "#E5ECF6",
           "radialaxis": {
            "gridcolor": "white",
            "linecolor": "white",
            "ticks": ""
           }
          },
          "scene": {
           "xaxis": {
            "backgroundcolor": "#E5ECF6",
            "gridcolor": "white",
            "gridwidth": 2,
            "linecolor": "white",
            "showbackground": true,
            "ticks": "",
            "zerolinecolor": "white"
           },
           "yaxis": {
            "backgroundcolor": "#E5ECF6",
            "gridcolor": "white",
            "gridwidth": 2,
            "linecolor": "white",
            "showbackground": true,
            "ticks": "",
            "zerolinecolor": "white"
           },
           "zaxis": {
            "backgroundcolor": "#E5ECF6",
            "gridcolor": "white",
            "gridwidth": 2,
            "linecolor": "white",
            "showbackground": true,
            "ticks": "",
            "zerolinecolor": "white"
           }
          },
          "shapedefaults": {
           "line": {
            "color": "#2a3f5f"
           }
          },
          "ternary": {
           "aaxis": {
            "gridcolor": "white",
            "linecolor": "white",
            "ticks": ""
           },
           "baxis": {
            "gridcolor": "white",
            "linecolor": "white",
            "ticks": ""
           },
           "bgcolor": "#E5ECF6",
           "caxis": {
            "gridcolor": "white",
            "linecolor": "white",
            "ticks": ""
           }
          },
          "title": {
           "x": 0.05
          },
          "xaxis": {
           "automargin": true,
           "gridcolor": "white",
           "linecolor": "white",
           "ticks": "",
           "title": {
            "standoff": 15
           },
           "zerolinecolor": "white",
           "zerolinewidth": 2
          },
          "yaxis": {
           "automargin": true,
           "gridcolor": "white",
           "linecolor": "white",
           "ticks": "",
           "title": {
            "standoff": 15
           },
           "zerolinecolor": "white",
           "zerolinewidth": 2
          }
         }
        },
        "width": 218.26
       }
      },
      "image/png": "[encoded data removed]",
      "text/html": [
       "<div>                            <div id=\"80b25223-f69f-4f0d-bcfd-ab1368c3e70c\" class=\"plotly-graph-div\" style=\"height:218.26px; width:218.26px;\"></div>            <script type=\"text/javascript\">                require([\"plotly\"], function(Plotly) {                    window.PLOTLYENV=window.PLOTLYENV || {};                                    if (document.getElementById(\"80b25223-f69f-4f0d-bcfd-ab1368c3e70c\")) {                    Plotly.newPlot(                        \"80b25223-f69f-4f0d-bcfd-ab1368c3e70c\",                        [{\"branchvalues\":\"total\",\"domain\":{\"x\":[0.0,1.0],\"y\":[0.0,1.0]},\"hovertemplate\":\"labels=%{label}\\u003cbr\\u003ecount=%{value}\\u003cbr\\u003eparent=%{parent}\\u003cbr\\u003eid=%{id}\\u003cextra\\u003e\\u003c\\u002fextra\\u003e\",\"ids\":[\"rate\\u002facceptability\",\"contain\\u002fappeal\",\"classify\\u002fargument\",\"consider\\u002fargument\",\"generate\\u002fargument\",\"use\\u002fargument\",\"use\\u002fargumentation\",\"contain\\u002fattack\",\"contain\\u002fclaim\",\"extract\\u002fclaim\",\"generate\\u002fclaim\",\"identify\\u002fclaim\",\"select\\u002fclaim\",\"generate\\u002fcounterargument\",\"assess\\u002feffectiveness\",\"evaluate\\u002feffectiveness\",\"write\\u002fessay\",\"provide\\u002fevidence\",\"provide\\u002fexample\",\"provide\\u002fexplanation\",\"commit\\u002ffallacy\",\"contain\\u002ffallacy\",\"identify\\u002ffallacy\",\"provide\\u002ffeedback\",\"find\\u002finstance\",\"identify\\u002finstance\",\"use\\u002flanguage\",\"find\\u002fone\",\"choose\\u002foption\",\"evaluate\\u002fquality\",\"rate\\u002fquality\",\"generate\\u002frebuttal\",\"rate\\u002frelevance\",\"classify\\u002fsentence\",\"identify\\u002fsentence\",\"select\\u002fsentence\",\"classify\\u002fstance\",\"determine\\u002fstance\",\"evaluate\\u002fstrength\",\"analyze\\u002fstructure\",\"rate\\u002fsufficiency\",\"classify\\u002ftype\",\"critique\\u002fuse\",\"evaluate\\u002fuse\",\"select\\u002fuse\",\"analyze\",\"assess\",\"choose\",\"classify\",\"commit\",\"consider\",\"contain\",\"critique\",\"determine\",\"evaluate\",\"extract\",\"find\",\"generate\",\"identify\",\"provide\",\"rate\",\"select\",\"use\",\"write\"],\"labels\":[\"acceptability\",\"appeal\",\"argument\",\"argument\",\"argument\",\"argument\",\"argumentation\",\"attack\",\"claim\",\"claim\",\"claim\",\"claim\",\"claim\",\"counterargument\",\"effectiveness\",\"effectiveness\",\"essay\",\"evidence\",\"example\",\"explanation\",\"fallacy\",\"fallacy\",\"fallacy\",\"feedback\",\"instance\",\"instance\",\"language\",\"one\",\"option\",\"quality\",\"quality\",\"rebuttal\",\"relevance\",\"sentence\",\"sentence\",\"sentence\",\"stance\",\"stance\",\"strength\",\"structure\",\"sufficiency\",\"type\",\"use\",\"use\",\"use\",\"analyze\",\"assess\",\"choose\",\"classify\",\"commit\",\"consider\",\"contain\",\"critique\",\"determine\",\"evaluate\",\"extract\",\"find\",\"generate\",\"identify\",\"provide\",\"rate\",\"select\",\"use\",\"write\"],\"name\":\"\",\"parents\":[\"rate\",\"contain\",\"classify\",\"consider\",\"generate\",\"use\",\"use\",\"contain\",\"contain\",\"extract\",\"generate\",\"identify\",\"select\",\"generate\",\"assess\",\"evaluate\",\"write\",\"provide\",\"provide\",\"provide\",\"commit\",\"contain\",\"identify\",\"provide\",\"find\",\"identify\",\"use\",\"find\",\"choose\",\"evaluate\",\"rate\",\"generate\",\"rate\",\"classify\",\"identify\",\"select\",\"classify\",\"determine\",\"evaluate\",\"analyze\",\"rate\",\"classify\",\"critique\",\"evaluate\",\"select\",\"\",\"\",\"\",\"\",\"\",\"\",\"\",\"\",\"\",\"\",\"\",\"\",\"\",\"\",\"\",\"\",\"\",\"\",\"\"],\"values\":[201,39,63,116,211,31,1853,35,37,46,182,217,33,269,31,62,45,68,40,41,157,135,466,52,133,339,38,146,36,57,94,105,155,76,225,32,37,61,110,53,126,57,182,46,61,53,31,36,233,157,116,246,182,61,275,46,279,767,1247,201,576,126,1922,45],\"type\":\"sunburst\",\"marker\":{\"line\":{\"color\":\"white\",\"width\":0.5}},\"insidetextorientation\":\"radial\",\"textinfo\":\"label\"}],                        {\"template\":{\"data\":{\"histogram2dcontour\":[{\"type\":\"histogram2dcontour\",\"colorbar\":{\"outlinewidth\":0,\"ticks\":\"\"},\"colorscale\":[[0.0,\"#0d0887\"],[0.1111111111111111,\"#46039f\"],[0.2222222222222222,\"#7201a8\"],[0.3333333333333333,\"#9c179e\"],[0.4444444444444444,\"#bd3786\"],[0.5555555555555556,\"#d8576b\"],[0.6666666666666666,\"#ed7953\"],[0.7777777777777778,\"#fb9f3a\"],[0.8888888888888888,\"#fdca26\"],[1.0,\"#f0f921\"]]}],\"choropleth\":[{\"type\":\"choropleth\",\"colorbar\":{\"outlinewidth\":0,\"ticks\":\"\"}}],\"histogram2d\":[{\"type\":\"histogram2d\",\"colorbar\":{\"outlinewidth\":0,\"ticks\":\"\"},\"colorscale\":[[0.0,\"#0d0887\"],[0.1111111111111111,\"#46039f\"],[0.2222222222222222,\"#7201a8\"],[0.3333333333333333,\"#9c179e\"],[0.4444444444444444,\"#bd3786\"],[0.5555555555555556,\"#d8576b\"],[0.6666666666666666,\"#ed7953\"],[0.7777777777777778,\"#fb9f3a\"],[0.8888888888888888,\"#fdca26\"],[1.0,\"#f0f921\"]]}],\"heatmap\":[{\"type\":\"heatmap\",\"colorbar\":{\"outlinewidth\":0,\"ticks\":\"\"},\"colorscale\":[[0.0,\"#0d0887\"],[0.1111111111111111,\"#46039f\"],[0.2222222222222222,\"#7201a8\"],[0.3333333333333333,\"#9c179e\"],[0.4444444444444444,\"#bd3786\"],[0.5555555555555556,\"#d8576b\"],[0.6666666666666666,\"#ed7953\"],[0.7777777777777778,\"#fb9f3a\"],[0.8888888888888888,\"#fdca26\"],[1.0,\"#f0f921\"]]}],\"heatmapgl\":[{\"type\":\"heatmapgl\",\"colorbar\":{\"outlinewidth\":0,\"ticks\":\"\"},\"colorscale\":[[0.0,\"#0d0887\"],[0.1111111111111111,\"#46039f\"],[0.2222222222222222,\"#7201a8\"],[0.3333333333333333,\"#9c179e\"],[0.4444444444444444,\"#bd3786\"],[0.5555555555555556,\"#d8576b\"],[0.6666666666666666,\"#ed7953\"],[0.7777777777777778,\"#fb9f3a\"],[0.8888888888888888,\"#fdca26\"],[1.0,\"#f0f921\"]]}],\"contourcarpet\":[{\"type\":\"contourcarpet\",\"colorbar\":{\"outlinewidth\":0,\"ticks\":\"\"}}],\"contour\":[{\"type\":\"contour\",\"colorbar\":{\"outlinewidth\":0,\"ticks\":\"\"},\"colorscale\":[[0.0,\"#0d0887\"],[0.1111111111111111,\"#46039f\"],[0.2222222222222222,\"#7201a8\"],[0.3333333333333333,\"#9c179e\"],[0.4444444444444444,\"#bd3786\"],[0.5555555555555556,\"#d8576b\"],[0.6666666666666666,\"#ed7953\"],[0.7777777777777778,\"#fb9f3a\"],[0.8888888888888888,\"#fdca26\"],[1.0,\"#f0f921\"]]}],\"surface\":[{\"type\":\"surface\",\"colorbar\":{\"outlinewidth\":0,\"ticks\":\"\"},\"colorscale\":[[0.0,\"#0d0887\"],[0.1111111111111111,\"#46039f\"],[0.2222222222222222,\"#7201a8\"],[0.3333333333333333,\"#9c179e\"],[0.4444444444444444,\"#bd3786\"],[0.5555555555555556,\"#d8576b\"],[0.6666666666666666,\"#ed7953\"],[0.7777777777777778,\"#fb9f3a\"],[0.8888888888888888,\"#fdca26\"],[1.0,\"#f0f921\"]]}],\"mesh3d\":[{\"type\":\"mesh3d\",\"colorbar\":{\"outlinewidth\":0,\"ticks\":\"\"}}],\"scatter\":[{\"fillpattern\":{\"fillmode\":\"overlay\",\"size\":10,\"solidity\":0.2},\"type\":\"scatter\"}],\"parcoords\":[{\"type\":\"parcoords\",\"line\":{\"colorbar\":{\"outlinewidth\":0,\"ticks\":\"\"}}}],\"scatterpolargl\":[{\"type\":\"scatterpolargl\",\"marker\":{\"colorbar\":{\"outlinewidth\":0,\"ticks\":\"\"}}}],\"bar\":[{\"error_x\":{\"color\":\"#2a3f5f\"},\"error_y\":{\"color\":\"#2a3f5f\"},\"marker\":{\"line\":{\"color\":\"#E5ECF6\",\"width\":0.5},\"pattern\":{\"fillmode\":\"overlay\",\"size\":10,\"solidity\":0.2}},\"type\":\"bar\"}],\"scattergeo\":[{\"type\":\"scattergeo\",\"marker\":{\"colorbar\":{\"outlinewidth\":0,\"ticks\":\"\"}}}],\"scatterpolar\":[{\"type\":\"scatterpolar\",\"marker\":{\"colorbar\":{\"outlinewidth\":0,\"ticks\":\"\"}}}],\"histogram\":[{\"marker\":{\"pattern\":{\"fillmode\":\"overlay\",\"size\":10,\"solidity\":0.2}},\"type\":\"histogram\"}],\"scattergl\":[{\"type\":\"scattergl\",\"marker\":{\"colorbar\":{\"outlinewidth\":0,\"ticks\":\"\"}}}],\"scatter3d\":[{\"type\":\"scatter3d\",\"line\":{\"colorbar\":{\"outlinewidth\":0,\"ticks\":\"\"}},\"marker\":{\"colorbar\":{\"outlinewidth\":0,\"ticks\":\"\"}}}],\"scattermapbox\":[{\"type\":\"scattermapbox\",\"marker\":{\"colorbar\":{\"outlinewidth\":0,\"ticks\":\"\"}}}],\"scatterternary\":[{\"type\":\"scatterternary\",\"marker\":{\"colorbar\":{\"outlinewidth\":0,\"ticks\":\"\"}}}],\"scattercarpet\":[{\"type\":\"scattercarpet\",\"marker\":{\"colorbar\":{\"outlinewidth\":0,\"ticks\":\"\"}}}],\"carpet\":[{\"aaxis\":{\"endlinecolor\":\"#2a3f5f\",\"gridcolor\":\"white\",\"linecolor\":\"white\",\"minorgridcolor\":\"white\",\"startlinecolor\":\"#2a3f5f\"},\"baxis\":{\"endlinecolor\":\"#2a3f5f\",\"gridcolor\":\"white\",\"linecolor\":\"white\",\"minorgridcolor\":\"white\",\"startlinecolor\":\"#2a3f5f\"},\"type\":\"carpet\"}],\"table\":[{\"cells\":{\"fill\":{\"color\":\"#EBF0F8\"},\"line\":{\"color\":\"white\"}},\"header\":{\"fill\":{\"color\":\"#C8D4E3\"},\"line\":{\"color\":\"white\"}},\"type\":\"table\"}],\"barpolar\":[{\"marker\":{\"line\":{\"color\":\"#E5ECF6\",\"width\":0.5},\"pattern\":{\"fillmode\":\"overlay\",\"size\":10,\"solidity\":0.2}},\"type\":\"barpolar\"}],\"pie\":[{\"automargin\":true,\"type\":\"pie\"}]},\"layout\":{\"autotypenumbers\":\"strict\",\"colorway\":[\"#636efa\",\"#EF553B\",\"#00cc96\",\"#ab63fa\",\"#FFA15A\",\"#19d3f3\",\"#FF6692\",\"#B6E880\",\"#FF97FF\",\"#FECB52\"],\"font\":{\"color\":\"#2a3f5f\"},\"hovermode\":\"closest\",\"hoverlabel\":{\"align\":\"left\"},\"paper_bgcolor\":\"white\",\"plot_bgcolor\":\"#E5ECF6\",\"polar\":{\"bgcolor\":\"#E5ECF6\",\"angularaxis\":{\"gridcolor\":\"white\",\"linecolor\":\"white\",\"ticks\":\"\"},\"radialaxis\":{\"gridcolor\":\"white\",\"linecolor\":\"white\",\"ticks\":\"\"}},\"ternary\":{\"bgcolor\":\"#E5ECF6\",\"aaxis\":{\"gridcolor\":\"white\",\"linecolor\":\"white\",\"ticks\":\"\"},\"baxis\":{\"gridcolor\":\"white\",\"linecolor\":\"white\",\"ticks\":\"\"},\"caxis\":{\"gridcolor\":\"white\",\"linecolor\":\"white\",\"ticks\":\"\"}},\"coloraxis\":{\"colorbar\":{\"outlinewidth\":0,\"ticks\":\"\"}},\"colorscale\":{\"sequential\":[[0.0,\"#0d0887\"],[0.1111111111111111,\"#46039f\"],[0.2222222222222222,\"#7201a8\"],[0.3333333333333333,\"#9c179e\"],[0.4444444444444444,\"#bd3786\"],[0.5555555555555556,\"#d8576b\"],[0.6666666666666666,\"#ed7953\"],[0.7777777777777778,\"#fb9f3a\"],[0.8888888888888888,\"#fdca26\"],[1.0,\"#f0f921\"]],\"sequentialminus\":[[0.0,\"#0d0887\"],[0.1111111111111111,\"#46039f\"],[0.2222222222222222,\"#7201a8\"],[0.3333333333333333,\"#9c179e\"],[0.4444444444444444,\"#bd3786\"],[0.5555555555555556,\"#d8576b\"],[0.6666666666666666,\"#ed7953\"],[0.7777777777777778,\"#fb9f3a\"],[0.8888888888888888,\"#fdca26\"],[1.0,\"#f0f921\"]],\"diverging\":[[0,\"#8e0152\"],[0.1,\"#c51b7d\"],[0.2,\"#de77ae\"],[0.3,\"#f1b6da\"],[0.4,\"#fde0ef\"],[0.5,\"#f7f7f7\"],[0.6,\"#e6f5d0\"],[0.7,\"#b8e186\"],[0.8,\"#7fbc41\"],[0.9,\"#4d9221\"],[1,\"#276419\"]]},\"xaxis\":{\"gridcolor\":\"white\",\"linecolor\":\"white\",\"ticks\":\"\",\"title\":{\"standoff\":15},\"zerolinecolor\":\"white\",\"automargin\":true,\"zerolinewidth\":2},\"yaxis\":{\"gridcolor\":\"white\",\"linecolor\":\"white\",\"ticks\":\"\",\"title\":{\"standoff\":15},\"zerolinecolor\":\"white\",\"automargin\":true,\"zerolinewidth\":2},\"scene\":{\"xaxis\":{\"backgroundcolor\":\"#E5ECF6\",\"gridcolor\":\"white\",\"linecolor\":\"white\",\"showbackground\":true,\"ticks\":\"\",\"zerolinecolor\":\"white\",\"gridwidth\":2},\"yaxis\":{\"backgroundcolor\":\"#E5ECF6\",\"gridcolor\":\"white\",\"linecolor\":\"white\",\"showbackground\":true,\"ticks\":\"\",\"zerolinecolor\":\"white\",\"gridwidth\":2},\"zaxis\":{\"backgroundcolor\":\"#E5ECF6\",\"gridcolor\":\"white\",\"linecolor\":\"white\",\"showbackground\":true,\"ticks\":\"\",\"zerolinecolor\":\"white\",\"gridwidth\":2}},\"shapedefaults\":{\"line\":{\"color\":\"#2a3f5f\"}},\"annotationdefaults\":{\"arrowcolor\":\"#2a3f5f\",\"arrowhead\":0,\"arrowwidth\":1},\"geo\":{\"bgcolor\":\"white\",\"landcolor\":\"#E5ECF6\",\"subunitcolor\":\"white\",\"showland\":true,\"showlakes\":true,\"lakecolor\":\"white\"},\"title\":{\"x\":0.05},\"mapbox\":{\"style\":\"light\"}}},\"legend\":{\"tracegroupgap\":0},\"margin\":{\"t\":2,\"l\":2,\"r\":2,\"b\":2},\"font\":{\"family\":\"Times New Roman\",\"size\":10},\"autosize\":false,\"height\":218.26,\"width\":218.26},                        {\"responsive\": true}                    ).then(function(){\n",
       "                            \n",
       "var gd = document.getElementById('80b25223-f69f-4f0d-bcfd-ab1368c3e70c');\n",
       "var x = new MutationObserver(function (mutations, observer) {{\n",
       "        var display = window.getComputedStyle(gd).display;\n",
       "        if (!display || display === 'none') {{\n",
       "            console.log([gd, 'removed!']);\n",
       "            Plotly.purge(gd);\n",
       "            observer.disconnect();\n",
       "        }}\n",
       "}});\n",
       "\n",
       "// Listen for the removal of the full notebook cells\n",
       "var notebookContainer = gd.closest('#notebook-container');\n",
       "if (notebookContainer) {{\n",
       "    x.observe(notebookContainer, {childList: true});\n",
       "}}\n",
       "\n",
       "// Listen for the clearing of the current output cell\n",
       "var outputEl = gd.closest('.output');\n",
       "if (outputEl) {{\n",
       "    x.observe(outputEl, {childList: true});\n",
       "}}\n",
       "\n",
       "                        })                };                });            </script>        </div>"
      ]
     },
     "metadata": {},
     "output_type": "display_data"
    }
   ],
   "source": [
    "import plotly.express as px\n",
    "\n",
    "# Filter data\n",
    "df = df[df[\"count\"] > 30]\n",
    "\n",
    "# Create sunburst figure\n",
    "fig = px.sunburst(df, path=['verb', 'noun'], values='count')\n",
    "\n",
    "# Improve text readability\n",
    "fig.update_traces(\n",
    "    insidetextorientation='radial',  # Auto-orient labels for best fit\n",
    "    textinfo='label',  # Show only category labels (no values)\n",
    "    marker=dict(line=dict(color='white', width=0.5))  # Add white borders for clarity\n",
    ")\n",
    "\n",
    "# Improve layout while keeping size fixed\n",
    "fig.update_layout(\n",
    "    autosize=False,\n",
    "    margin=dict(l=2, r=2, t=2, b=2),  # Minimal margins to maximize usable space\n",
    "    font=dict(family=\"Times New Roman\", size=10),  # Adjusted font size for small figure\n",
    "    height=218.26,\n",
    "    width=218.26\n",
    ")\n",
    "\n",
    "# Show figure\n",
    "fig.show()\n",
    "\n",
    "# Save as high-quality PDF\n",
    "fig.write_image(file='verb_noun.pdf', format='pdf', scale=3)"
   ]
  },
  {
   "cell_type": "code",
   "execution_count": 53,
   "metadata": {
    "execution": {
     "iopub.execute_input": "2025-01-22T10:26:28.475812Z",
     "iopub.status.busy": "2025-01-22T10:26:28.475573Z",
     "iopub.status.idle": "2025-01-22T10:26:28.601633Z",
     "shell.execute_reply": "2025-01-22T10:26:28.601125Z",
     "shell.execute_reply.started": "2025-01-22T10:26:28.475794Z"
    },
    "tags": []
   },
   "outputs": [
    {
     "data": {
      "application/vnd.plotly.v1+json": {
       "config": {
        "plotlyServerURL": "https://plot.ly"
       },
       "data": [
        {
         "branchvalues": "total",
         "customdata": [
          [
           "rate"
          ],
          [
           "contain"
          ],
          [
           "classify"
          ],
          [
           "consider"
          ],
          [
           "generate"
          ],
          [
           "use"
          ],
          [
           "use"
          ],
          [
           "contain"
          ],
          [
           "contain"
          ],
          [
           "select"
          ],
          [
           "identify"
          ],
          [
           "extract"
          ],
          [
           "generate"
          ],
          [
           "generate"
          ],
          [
           "assess"
          ],
          [
           "evaluate"
          ],
          [
           "write"
          ],
          [
           "provide"
          ],
          [
           "provide"
          ],
          [
           "provide"
          ],
          [
           "commit"
          ],
          [
           "contain"
          ],
          [
           "identify"
          ],
          [
           "find"
          ],
          [
           "identify"
          ],
          [
           "provide"
          ],
          [
           "use"
          ],
          [
           "find"
          ],
          [
           "choose"
          ],
          [
           "evaluate"
          ],
          [
           "classify"
          ],
          [
           "rate"
          ],
          [
           "generate"
          ],
          [
           "rate"
          ],
          [
           "determine"
          ],
          [
           "classify"
          ],
          [
           "identify"
          ],
          [
           "select"
          ],
          [
           "rate"
          ],
          [
           "evaluate"
          ],
          [
           "analyze"
          ],
          [
           "critique"
          ],
          [
           "evaluate"
          ],
          [
           "classify"
          ],
          [
           "select"
          ],
          [
           "analyze"
          ],
          [
           "assess"
          ],
          [
           "choose"
          ],
          [
           "classify"
          ],
          [
           "commit"
          ],
          [
           "consider"
          ],
          [
           "contain"
          ],
          [
           "critique"
          ],
          [
           "determine"
          ],
          [
           "evaluate"
          ],
          [
           "extract"
          ],
          [
           "find"
          ],
          [
           "generate"
          ],
          [
           "identify"
          ],
          [
           "provide"
          ],
          [
           "rate"
          ],
          [
           "select"
          ],
          [
           "use"
          ],
          [
           "write"
          ]
         ],
         "domain": {
          "x": [
           0,
           1
          ],
          "y": [
           0,
           1
          ]
         },
         "hovertemplate": "labels=%{label}<br>count=%{value}<br>parent=%{parent}<br>id=%{id}<br>verb=%{customdata[0]}<extra></extra>",
         "ids": [
          "rate/acceptability",
          "contain/appeal",
          "classify/argument",
          "consider/argument",
          "generate/argument",
          "use/argument",
          "use/argumentation",
          "contain/attack",
          "contain/claim",
          "select/claim",
          "identify/claim",
          "extract/claim",
          "generate/claim",
          "generate/counterargument",
          "assess/effectiveness",
          "evaluate/effectiveness",
          "write/essay",
          "provide/evidence",
          "provide/example",
          "provide/explanation",
          "commit/fallacy",
          "contain/fallacy",
          "identify/instance",
          "find/instance",
          "identify/fallacy",
          "provide/feedback",
          "use/language",
          "find/one",
          "choose/option",
          "evaluate/quality",
          "classify/sentence",
          "rate/quality",
          "generate/rebuttal",
          "rate/relevance",
          "determine/stance",
          "classify/stance",
          "identify/sentence",
          "select/sentence",
          "rate/sufficiency",
          "evaluate/strength",
          "analyze/structure",
          "critique/use",
          "evaluate/use",
          "classify/type",
          "select/use",
          "analyze",
          "assess",
          "choose",
          "classify",
          "commit",
          "consider",
          "contain",
          "critique",
          "determine",
          "evaluate",
          "extract",
          "find",
          "generate",
          "identify",
          "provide",
          "rate",
          "select",
          "use",
          "write"
         ],
         "insidetextorientation": "radial",
         "labels": [
          "acceptability",
          "appeal",
          "argument",
          "argument",
          "argument",
          "argument",
          "argumentation",
          "attack",
          "claim",
          "claim",
          "claim",
          "claim",
          "claim",
          "counterargument",
          "effectiveness",
          "effectiveness",
          "essay",
          "evidence",
          "example",
          "explanation",
          "fallacy",
          "fallacy",
          "instance",
          "instance",
          "fallacy",
          "feedback",
          "language",
          "one",
          "option",
          "quality",
          "sentence",
          "quality",
          "rebuttal",
          "relevance",
          "stance",
          "stance",
          "sentence",
          "sentence",
          "sufficiency",
          "strength",
          "structure",
          "use",
          "use",
          "type",
          "use",
          "analyze",
          "assess",
          "choose",
          "classify",
          "commit",
          "consider",
          "contain",
          "critique",
          "determine",
          "evaluate",
          "extract",
          "find",
          "generate",
          "identify",
          "provide",
          "rate",
          "select",
          "use",
          "write"
         ],
         "marker": {
          "colors": [
           "#E6A300",
           "#A1D700",
           "#196E6B",
           "#85B817",
           "#A5C300",
           "#1F7D6F",
           "#1F7D6F",
           "#A1D700",
           "#A1D700",
           "#FFBB33",
           "#6DA832",
           "#2F9A67",
           "#A5C300",
           "#A5C300",
           "#D4B300",
           "#104F4C",
           "#5EB437",
           "#BFAF30",
           "#BFAF30",
           "#BFAF30",
           "#8FC96A",
           "#A1D700",
           "#6DA832",
           "#268A6C",
           "#6DA832",
           "#BFAF30",
           "#1F7D6F",
           "#268A6C",
           "#3AA85F",
           "#104F4C",
           "#196E6B",
           "#E6A300",
           "#A5C300",
           "#E6A300",
           "#49B55A",
           "#196E6B",
           "#6DA832",
           "#FFBB33",
           "#E6A300",
           "#104F4C",
           "#155F5D",
           "#FFCC66",
           "#104F4C",
           "#196E6B",
           "#FFBB33",
           "#155F5D",
           "#D4B300",
           "#3AA85F",
           "#196E6B",
           "#8FC96A",
           "#85B817",
           "#A1D700",
           "#FFCC66",
           "#49B55A",
           "#104F4C",
           "#2F9A67",
           "#268A6C",
           "#A5C300",
           "#6DA832",
           "#BFAF30",
           "#E6A300",
           "#FFBB33",
           "#1F7D6F",
           "#5EB437"
          ],
          "line": {
           "color": "white",
           "width": 0.5
          }
         },
         "name": "",
         "parents": [
          "rate",
          "contain",
          "classify",
          "consider",
          "generate",
          "use",
          "use",
          "contain",
          "contain",
          "select",
          "identify",
          "extract",
          "generate",
          "generate",
          "assess",
          "evaluate",
          "write",
          "provide",
          "provide",
          "provide",
          "commit",
          "contain",
          "identify",
          "find",
          "identify",
          "provide",
          "use",
          "find",
          "choose",
          "evaluate",
          "classify",
          "rate",
          "generate",
          "rate",
          "determine",
          "classify",
          "identify",
          "select",
          "rate",
          "evaluate",
          "analyze",
          "critique",
          "evaluate",
          "classify",
          "select",
          "",
          "",
          "",
          "",
          "",
          "",
          "",
          "",
          "",
          "",
          "",
          "",
          "",
          "",
          "",
          "",
          "",
          "",
          ""
         ],
         "textinfo": "label",
         "type": "sunburst",
         "values": [
          201,
          39,
          63,
          116,
          211,
          31,
          1853,
          35,
          37,
          33,
          217,
          46,
          182,
          269,
          31,
          62,
          45,
          68,
          40,
          41,
          157,
          135,
          339,
          133,
          466,
          52,
          38,
          146,
          36,
          57,
          76,
          94,
          105,
          155,
          61,
          37,
          225,
          32,
          126,
          110,
          53,
          182,
          46,
          57,
          61,
          53,
          31,
          36,
          233,
          157,
          116,
          246,
          182,
          61,
          275,
          46,
          279,
          767,
          1247,
          201,
          576,
          126,
          1922,
          45
         ]
        }
       ],
       "layout": {
        "autosize": false,
        "font": {
         "family": "Times New Roman",
         "size": 10
        },
        "height": 218.26,
        "legend": {
         "tracegroupgap": 0
        },
        "margin": {
         "b": 2,
         "l": 2,
         "r": 2,
         "t": 2
        },
        "template": {
         "data": {
          "bar": [
           {
            "error_x": {
             "color": "#2a3f5f"
            },
            "error_y": {
             "color": "#2a3f5f"
            },
            "marker": {
             "line": {
              "color": "#E5ECF6",
              "width": 0.5
             },
             "pattern": {
              "fillmode": "overlay",
              "size": 10,
              "solidity": 0.2
             }
            },
            "type": "bar"
           }
          ],
          "barpolar": [
           {
            "marker": {
             "line": {
              "color": "#E5ECF6",
              "width": 0.5
             },
             "pattern": {
              "fillmode": "overlay",
              "size": 10,
              "solidity": 0.2
             }
            },
            "type": "barpolar"
           }
          ],
          "carpet": [
           {
            "aaxis": {
             "endlinecolor": "#2a3f5f",
             "gridcolor": "white",
             "linecolor": "white",
             "minorgridcolor": "white",
             "startlinecolor": "#2a3f5f"
            },
            "baxis": {
             "endlinecolor": "#2a3f5f",
             "gridcolor": "white",
             "linecolor": "white",
             "minorgridcolor": "white",
             "startlinecolor": "#2a3f5f"
            },
            "type": "carpet"
           }
          ],
          "choropleth": [
           {
            "colorbar": {
             "outlinewidth": 0,
             "ticks": ""
            },
            "type": "choropleth"
           }
          ],
          "contour": [
           {
            "colorbar": {
             "outlinewidth": 0,
             "ticks": ""
            },
            "colorscale": [
             [
              0,
              "#0d0887"
             ],
             [
              0.1111111111111111,
              "#46039f"
             ],
             [
              0.2222222222222222,
              "#7201a8"
             ],
             [
              0.3333333333333333,
              "#9c179e"
             ],
             [
              0.4444444444444444,
              "#bd3786"
             ],
             [
              0.5555555555555556,
              "#d8576b"
             ],
             [
              0.6666666666666666,
              "#ed7953"
             ],
             [
              0.7777777777777778,
              "#fb9f3a"
             ],
             [
              0.8888888888888888,
              "#fdca26"
             ],
             [
              1,
              "#f0f921"
             ]
            ],
            "type": "contour"
           }
          ],
          "contourcarpet": [
           {
            "colorbar": {
             "outlinewidth": 0,
             "ticks": ""
            },
            "type": "contourcarpet"
           }
          ],
          "heatmap": [
           {
            "colorbar": {
             "outlinewidth": 0,
             "ticks": ""
            },
            "colorscale": [
             [
              0,
              "#0d0887"
             ],
             [
              0.1111111111111111,
              "#46039f"
             ],
             [
              0.2222222222222222,
              "#7201a8"
             ],
             [
              0.3333333333333333,
              "#9c179e"
             ],
             [
              0.4444444444444444,
              "#bd3786"
             ],
             [
              0.5555555555555556,
              "#d8576b"
             ],
             [
              0.6666666666666666,
              "#ed7953"
             ],
             [
              0.7777777777777778,
              "#fb9f3a"
             ],
             [
              0.8888888888888888,
              "#fdca26"
             ],
             [
              1,
              "#f0f921"
             ]
            ],
            "type": "heatmap"
           }
          ],
          "heatmapgl": [
           {
            "colorbar": {
             "outlinewidth": 0,
             "ticks": ""
            },
            "colorscale": [
             [
              0,
              "#0d0887"
             ],
             [
              0.1111111111111111,
              "#46039f"
             ],
             [
              0.2222222222222222,
              "#7201a8"
             ],
             [
              0.3333333333333333,
              "#9c179e"
             ],
             [
              0.4444444444444444,
              "#bd3786"
             ],
             [
              0.5555555555555556,
              "#d8576b"
             ],
             [
              0.6666666666666666,
              "#ed7953"
             ],
             [
              0.7777777777777778,
              "#fb9f3a"
             ],
             [
              0.8888888888888888,
              "#fdca26"
             ],
             [
              1,
              "#f0f921"
             ]
            ],
            "type": "heatmapgl"
           }
          ],
          "histogram": [
           {
            "marker": {
             "pattern": {
              "fillmode": "overlay",
              "size": 10,
              "solidity": 0.2
             }
            },
            "type": "histogram"
           }
          ],
          "histogram2d": [
           {
            "colorbar": {
             "outlinewidth": 0,
             "ticks": ""
            },
            "colorscale": [
             [
              0,
              "#0d0887"
             ],
             [
              0.1111111111111111,
              "#46039f"
             ],
             [
              0.2222222222222222,
              "#7201a8"
             ],
             [
              0.3333333333333333,
              "#9c179e"
             ],
             [
              0.4444444444444444,
              "#bd3786"
             ],
             [
              0.5555555555555556,
              "#d8576b"
             ],
             [
              0.6666666666666666,
              "#ed7953"
             ],
             [
              0.7777777777777778,
              "#fb9f3a"
             ],
             [
              0.8888888888888888,
              "#fdca26"
             ],
             [
              1,
              "#f0f921"
             ]
            ],
            "type": "histogram2d"
           }
          ],
          "histogram2dcontour": [
           {
            "colorbar": {
             "outlinewidth": 0,
             "ticks": ""
            },
            "colorscale": [
             [
              0,
              "#0d0887"
             ],
             [
              0.1111111111111111,
              "#46039f"
             ],
             [
              0.2222222222222222,
              "#7201a8"
             ],
             [
              0.3333333333333333,
              "#9c179e"
             ],
             [
              0.4444444444444444,
              "#bd3786"
             ],
             [
              0.5555555555555556,
              "#d8576b"
             ],
             [
              0.6666666666666666,
              "#ed7953"
             ],
             [
              0.7777777777777778,
              "#fb9f3a"
             ],
             [
              0.8888888888888888,
              "#fdca26"
             ],
             [
              1,
              "#f0f921"
             ]
            ],
            "type": "histogram2dcontour"
           }
          ],
          "mesh3d": [
           {
            "colorbar": {
             "outlinewidth": 0,
             "ticks": ""
            },
            "type": "mesh3d"
           }
          ],
          "parcoords": [
           {
            "line": {
             "colorbar": {
              "outlinewidth": 0,
              "ticks": ""
             }
            },
            "type": "parcoords"
           }
          ],
          "pie": [
           {
            "automargin": true,
            "type": "pie"
           }
          ],
          "scatter": [
           {
            "fillpattern": {
             "fillmode": "overlay",
             "size": 10,
             "solidity": 0.2
            },
            "type": "scatter"
           }
          ],
          "scatter3d": [
           {
            "line": {
             "colorbar": {
              "outlinewidth": 0,
              "ticks": ""
             }
            },
            "marker": {
             "colorbar": {
              "outlinewidth": 0,
              "ticks": ""
             }
            },
            "type": "scatter3d"
           }
          ],
          "scattercarpet": [
           {
            "marker": {
             "colorbar": {
              "outlinewidth": 0,
              "ticks": ""
             }
            },
            "type": "scattercarpet"
           }
          ],
          "scattergeo": [
           {
            "marker": {
             "colorbar": {
              "outlinewidth": 0,
              "ticks": ""
             }
            },
            "type": "scattergeo"
           }
          ],
          "scattergl": [
           {
            "marker": {
             "colorbar": {
              "outlinewidth": 0,
              "ticks": ""
             }
            },
            "type": "scattergl"
           }
          ],
          "scattermapbox": [
           {
            "marker": {
             "colorbar": {
              "outlinewidth": 0,
              "ticks": ""
             }
            },
            "type": "scattermapbox"
           }
          ],
          "scatterpolar": [
           {
            "marker": {
             "colorbar": {
              "outlinewidth": 0,
              "ticks": ""
             }
            },
            "type": "scatterpolar"
           }
          ],
          "scatterpolargl": [
           {
            "marker": {
             "colorbar": {
              "outlinewidth": 0,
              "ticks": ""
             }
            },
            "type": "scatterpolargl"
           }
          ],
          "scatterternary": [
           {
            "marker": {
             "colorbar": {
              "outlinewidth": 0,
              "ticks": ""
             }
            },
            "type": "scatterternary"
           }
          ],
          "surface": [
           {
            "colorbar": {
             "outlinewidth": 0,
             "ticks": ""
            },
            "colorscale": [
             [
              0,
              "#0d0887"
             ],
             [
              0.1111111111111111,
              "#46039f"
             ],
             [
              0.2222222222222222,
              "#7201a8"
             ],
             [
              0.3333333333333333,
              "#9c179e"
             ],
             [
              0.4444444444444444,
              "#bd3786"
             ],
             [
              0.5555555555555556,
              "#d8576b"
             ],
             [
              0.6666666666666666,
              "#ed7953"
             ],
             [
              0.7777777777777778,
              "#fb9f3a"
             ],
             [
              0.8888888888888888,
              "#fdca26"
             ],
             [
              1,
              "#f0f921"
             ]
            ],
            "type": "surface"
           }
          ],
          "table": [
           {
            "cells": {
             "fill": {
              "color": "#EBF0F8"
             },
             "line": {
              "color": "white"
             }
            },
            "header": {
             "fill": {
              "color": "#C8D4E3"
             },
             "line": {
              "color": "white"
             }
            },
            "type": "table"
           }
          ]
         },
         "layout": {
          "annotationdefaults": {
           "arrowcolor": "#2a3f5f",
           "arrowhead": 0,
           "arrowwidth": 1
          },
          "autotypenumbers": "strict",
          "coloraxis": {
           "colorbar": {
            "outlinewidth": 0,
            "ticks": ""
           }
          },
          "colorscale": {
           "diverging": [
            [
             0,
             "#8e0152"
            ],
            [
             0.1,
             "#c51b7d"
            ],
            [
             0.2,
             "#de77ae"
            ],
            [
             0.3,
             "#f1b6da"
            ],
            [
             0.4,
             "#fde0ef"
            ],
            [
             0.5,
             "#f7f7f7"
            ],
            [
             0.6,
             "#e6f5d0"
            ],
            [
             0.7,
             "#b8e186"
            ],
            [
             0.8,
             "#7fbc41"
            ],
            [
             0.9,
             "#4d9221"
            ],
            [
             1,
             "#276419"
            ]
           ],
           "sequential": [
            [
             0,
             "#0d0887"
            ],
            [
             0.1111111111111111,
             "#46039f"
            ],
            [
             0.2222222222222222,
             "#7201a8"
            ],
            [
             0.3333333333333333,
             "#9c179e"
            ],
            [
             0.4444444444444444,
             "#bd3786"
            ],
            [
             0.5555555555555556,
             "#d8576b"
            ],
            [
             0.6666666666666666,
             "#ed7953"
            ],
            [
             0.7777777777777778,
             "#fb9f3a"
            ],
            [
             0.8888888888888888,
             "#fdca26"
            ],
            [
             1,
             "#f0f921"
            ]
           ],
           "sequentialminus": [
            [
             0,
             "#0d0887"
            ],
            [
             0.1111111111111111,
             "#46039f"
            ],
            [
             0.2222222222222222,
             "#7201a8"
            ],
            [
             0.3333333333333333,
             "#9c179e"
            ],
            [
             0.4444444444444444,
             "#bd3786"
            ],
            [
             0.5555555555555556,
             "#d8576b"
            ],
            [
             0.6666666666666666,
             "#ed7953"
            ],
            [
             0.7777777777777778,
             "#fb9f3a"
            ],
            [
             0.8888888888888888,
             "#fdca26"
            ],
            [
             1,
             "#f0f921"
            ]
           ]
          },
          "colorway": [
           "#636efa",
           "#EF553B",
           "#00cc96",
           "#ab63fa",
           "#FFA15A",
           "#19d3f3",
           "#FF6692",
           "#B6E880",
           "#FF97FF",
           "#FECB52"
          ],
          "font": {
           "color": "#2a3f5f"
          },
          "geo": {
           "bgcolor": "white",
           "lakecolor": "white",
           "landcolor": "#E5ECF6",
           "showlakes": true,
           "showland": true,
           "subunitcolor": "white"
          },
          "hoverlabel": {
           "align": "left"
          },
          "hovermode": "closest",
          "mapbox": {
           "style": "light"
          },
          "paper_bgcolor": "white",
          "plot_bgcolor": "#E5ECF6",
          "polar": {
           "angularaxis": {
            "gridcolor": "white",
            "linecolor": "white",
            "ticks": ""
           },
           "bgcolor": "#E5ECF6",
           "radialaxis": {
            "gridcolor": "white",
            "linecolor": "white",
            "ticks": ""
           }
          },
          "scene": {
           "xaxis": {
            "backgroundcolor": "#E5ECF6",
            "gridcolor": "white",
            "gridwidth": 2,
            "linecolor": "white",
            "showbackground": true,
            "ticks": "",
            "zerolinecolor": "white"
           },
           "yaxis": {
            "backgroundcolor": "#E5ECF6",
            "gridcolor": "white",
            "gridwidth": 2,
            "linecolor": "white",
            "showbackground": true,
            "ticks": "",
            "zerolinecolor": "white"
           },
           "zaxis": {
            "backgroundcolor": "#E5ECF6",
            "gridcolor": "white",
            "gridwidth": 2,
            "linecolor": "white",
            "showbackground": true,
            "ticks": "",
            "zerolinecolor": "white"
           }
          },
          "shapedefaults": {
           "line": {
            "color": "#2a3f5f"
           }
          },
          "ternary": {
           "aaxis": {
            "gridcolor": "white",
            "linecolor": "white",
            "ticks": ""
           },
           "baxis": {
            "gridcolor": "white",
            "linecolor": "white",
            "ticks": ""
           },
           "bgcolor": "#E5ECF6",
           "caxis": {
            "gridcolor": "white",
            "linecolor": "white",
            "ticks": ""
           }
          },
          "title": {
           "x": 0.05
          },
          "xaxis": {
           "automargin": true,
           "gridcolor": "white",
           "linecolor": "white",
           "ticks": "",
           "title": {
            "standoff": 15
           },
           "zerolinecolor": "white",
           "zerolinewidth": 2
          },
          "yaxis": {
           "automargin": true,
           "gridcolor": "white",
           "linecolor": "white",
           "ticks": "",
           "title": {
            "standoff": 15
           },
           "zerolinecolor": "white",
           "zerolinewidth": 2
          }
         }
        },
        "width": 218.26
       }
      },
      "image/png": "[encoded data removed]",
      "text/html": [
       "<div>                            <div id=\"e011f2bd-9c7d-4917-90b3-3efc778a3cf8\" class=\"plotly-graph-div\" style=\"height:218.26px; width:218.26px;\"></div>            <script type=\"text/javascript\">                require([\"plotly\"], function(Plotly) {                    window.PLOTLYENV=window.PLOTLYENV || {};                                    if (document.getElementById(\"e011f2bd-9c7d-4917-90b3-3efc778a3cf8\")) {                    Plotly.newPlot(                        \"e011f2bd-9c7d-4917-90b3-3efc778a3cf8\",                        [{\"branchvalues\":\"total\",\"customdata\":[[\"rate\"],[\"contain\"],[\"classify\"],[\"consider\"],[\"generate\"],[\"use\"],[\"use\"],[\"contain\"],[\"contain\"],[\"select\"],[\"identify\"],[\"extract\"],[\"generate\"],[\"generate\"],[\"assess\"],[\"evaluate\"],[\"write\"],[\"provide\"],[\"provide\"],[\"provide\"],[\"commit\"],[\"contain\"],[\"identify\"],[\"find\"],[\"identify\"],[\"provide\"],[\"use\"],[\"find\"],[\"choose\"],[\"evaluate\"],[\"classify\"],[\"rate\"],[\"generate\"],[\"rate\"],[\"determine\"],[\"classify\"],[\"identify\"],[\"select\"],[\"rate\"],[\"evaluate\"],[\"analyze\"],[\"critique\"],[\"evaluate\"],[\"classify\"],[\"select\"],[\"analyze\"],[\"assess\"],[\"choose\"],[\"classify\"],[\"commit\"],[\"consider\"],[\"contain\"],[\"critique\"],[\"determine\"],[\"evaluate\"],[\"extract\"],[\"find\"],[\"generate\"],[\"identify\"],[\"provide\"],[\"rate\"],[\"select\"],[\"use\"],[\"write\"]],\"domain\":{\"x\":[0.0,1.0],\"y\":[0.0,1.0]},\"hovertemplate\":\"labels=%{label}\\u003cbr\\u003ecount=%{value}\\u003cbr\\u003eparent=%{parent}\\u003cbr\\u003eid=%{id}\\u003cbr\\u003everb=%{customdata[0]}\\u003cextra\\u003e\\u003c\\u002fextra\\u003e\",\"ids\":[\"rate\\u002facceptability\",\"contain\\u002fappeal\",\"classify\\u002fargument\",\"consider\\u002fargument\",\"generate\\u002fargument\",\"use\\u002fargument\",\"use\\u002fargumentation\",\"contain\\u002fattack\",\"contain\\u002fclaim\",\"select\\u002fclaim\",\"identify\\u002fclaim\",\"extract\\u002fclaim\",\"generate\\u002fclaim\",\"generate\\u002fcounterargument\",\"assess\\u002feffectiveness\",\"evaluate\\u002feffectiveness\",\"write\\u002fessay\",\"provide\\u002fevidence\",\"provide\\u002fexample\",\"provide\\u002fexplanation\",\"commit\\u002ffallacy\",\"contain\\u002ffallacy\",\"identify\\u002finstance\",\"find\\u002finstance\",\"identify\\u002ffallacy\",\"provide\\u002ffeedback\",\"use\\u002flanguage\",\"find\\u002fone\",\"choose\\u002foption\",\"evaluate\\u002fquality\",\"classify\\u002fsentence\",\"rate\\u002fquality\",\"generate\\u002frebuttal\",\"rate\\u002frelevance\",\"determine\\u002fstance\",\"classify\\u002fstance\",\"identify\\u002fsentence\",\"select\\u002fsentence\",\"rate\\u002fsufficiency\",\"evaluate\\u002fstrength\",\"analyze\\u002fstructure\",\"critique\\u002fuse\",\"evaluate\\u002fuse\",\"classify\\u002ftype\",\"select\\u002fuse\",\"analyze\",\"assess\",\"choose\",\"classify\",\"commit\",\"consider\",\"contain\",\"critique\",\"determine\",\"evaluate\",\"extract\",\"find\",\"generate\",\"identify\",\"provide\",\"rate\",\"select\",\"use\",\"write\"],\"labels\":[\"acceptability\",\"appeal\",\"argument\",\"argument\",\"argument\",\"argument\",\"argumentation\",\"attack\",\"claim\",\"claim\",\"claim\",\"claim\",\"claim\",\"counterargument\",\"effectiveness\",\"effectiveness\",\"essay\",\"evidence\",\"example\",\"explanation\",\"fallacy\",\"fallacy\",\"instance\",\"instance\",\"fallacy\",\"feedback\",\"language\",\"one\",\"option\",\"quality\",\"sentence\",\"quality\",\"rebuttal\",\"relevance\",\"stance\",\"stance\",\"sentence\",\"sentence\",\"sufficiency\",\"strength\",\"structure\",\"use\",\"use\",\"type\",\"use\",\"analyze\",\"assess\",\"choose\",\"classify\",\"commit\",\"consider\",\"contain\",\"critique\",\"determine\",\"evaluate\",\"extract\",\"find\",\"generate\",\"identify\",\"provide\",\"rate\",\"select\",\"use\",\"write\"],\"marker\":{\"colors\":[\"#E6A300\",\"#A1D700\",\"#196E6B\",\"#85B817\",\"#A5C300\",\"#1F7D6F\",\"#1F7D6F\",\"#A1D700\",\"#A1D700\",\"#FFBB33\",\"#6DA832\",\"#2F9A67\",\"#A5C300\",\"#A5C300\",\"#D4B300\",\"#104F4C\",\"#5EB437\",\"#BFAF30\",\"#BFAF30\",\"#BFAF30\",\"#8FC96A\",\"#A1D700\",\"#6DA832\",\"#268A6C\",\"#6DA832\",\"#BFAF30\",\"#1F7D6F\",\"#268A6C\",\"#3AA85F\",\"#104F4C\",\"#196E6B\",\"#E6A300\",\"#A5C300\",\"#E6A300\",\"#49B55A\",\"#196E6B\",\"#6DA832\",\"#FFBB33\",\"#E6A300\",\"#104F4C\",\"#155F5D\",\"#FFCC66\",\"#104F4C\",\"#196E6B\",\"#FFBB33\",\"#155F5D\",\"#D4B300\",\"#3AA85F\",\"#196E6B\",\"#8FC96A\",\"#85B817\",\"#A1D700\",\"#FFCC66\",\"#49B55A\",\"#104F4C\",\"#2F9A67\",\"#268A6C\",\"#A5C300\",\"#6DA832\",\"#BFAF30\",\"#E6A300\",\"#FFBB33\",\"#1F7D6F\",\"#5EB437\"],\"line\":{\"color\":\"white\",\"width\":0.5}},\"name\":\"\",\"parents\":[\"rate\",\"contain\",\"classify\",\"consider\",\"generate\",\"use\",\"use\",\"contain\",\"contain\",\"select\",\"identify\",\"extract\",\"generate\",\"generate\",\"assess\",\"evaluate\",\"write\",\"provide\",\"provide\",\"provide\",\"commit\",\"contain\",\"identify\",\"find\",\"identify\",\"provide\",\"use\",\"find\",\"choose\",\"evaluate\",\"classify\",\"rate\",\"generate\",\"rate\",\"determine\",\"classify\",\"identify\",\"select\",\"rate\",\"evaluate\",\"analyze\",\"critique\",\"evaluate\",\"classify\",\"select\",\"\",\"\",\"\",\"\",\"\",\"\",\"\",\"\",\"\",\"\",\"\",\"\",\"\",\"\",\"\",\"\",\"\",\"\",\"\"],\"values\":[201,39,63,116,211,31,1853,35,37,33,217,46,182,269,31,62,45,68,40,41,157,135,339,133,466,52,38,146,36,57,76,94,105,155,61,37,225,32,126,110,53,182,46,57,61,53,31,36,233,157,116,246,182,61,275,46,279,767,1247,201,576,126,1922,45],\"type\":\"sunburst\",\"insidetextorientation\":\"radial\",\"textinfo\":\"label\"}],                        {\"template\":{\"data\":{\"histogram2dcontour\":[{\"type\":\"histogram2dcontour\",\"colorbar\":{\"outlinewidth\":0,\"ticks\":\"\"},\"colorscale\":[[0.0,\"#0d0887\"],[0.1111111111111111,\"#46039f\"],[0.2222222222222222,\"#7201a8\"],[0.3333333333333333,\"#9c179e\"],[0.4444444444444444,\"#bd3786\"],[0.5555555555555556,\"#d8576b\"],[0.6666666666666666,\"#ed7953\"],[0.7777777777777778,\"#fb9f3a\"],[0.8888888888888888,\"#fdca26\"],[1.0,\"#f0f921\"]]}],\"choropleth\":[{\"type\":\"choropleth\",\"colorbar\":{\"outlinewidth\":0,\"ticks\":\"\"}}],\"histogram2d\":[{\"type\":\"histogram2d\",\"colorbar\":{\"outlinewidth\":0,\"ticks\":\"\"},\"colorscale\":[[0.0,\"#0d0887\"],[0.1111111111111111,\"#46039f\"],[0.2222222222222222,\"#7201a8\"],[0.3333333333333333,\"#9c179e\"],[0.4444444444444444,\"#bd3786\"],[0.5555555555555556,\"#d8576b\"],[0.6666666666666666,\"#ed7953\"],[0.7777777777777778,\"#fb9f3a\"],[0.8888888888888888,\"#fdca26\"],[1.0,\"#f0f921\"]]}],\"heatmap\":[{\"type\":\"heatmap\",\"colorbar\":{\"outlinewidth\":0,\"ticks\":\"\"},\"colorscale\":[[0.0,\"#0d0887\"],[0.1111111111111111,\"#46039f\"],[0.2222222222222222,\"#7201a8\"],[0.3333333333333333,\"#9c179e\"],[0.4444444444444444,\"#bd3786\"],[0.5555555555555556,\"#d8576b\"],[0.6666666666666666,\"#ed7953\"],[0.7777777777777778,\"#fb9f3a\"],[0.8888888888888888,\"#fdca26\"],[1.0,\"#f0f921\"]]}],\"heatmapgl\":[{\"type\":\"heatmapgl\",\"colorbar\":{\"outlinewidth\":0,\"ticks\":\"\"},\"colorscale\":[[0.0,\"#0d0887\"],[0.1111111111111111,\"#46039f\"],[0.2222222222222222,\"#7201a8\"],[0.3333333333333333,\"#9c179e\"],[0.4444444444444444,\"#bd3786\"],[0.5555555555555556,\"#d8576b\"],[0.6666666666666666,\"#ed7953\"],[0.7777777777777778,\"#fb9f3a\"],[0.8888888888888888,\"#fdca26\"],[1.0,\"#f0f921\"]]}],\"contourcarpet\":[{\"type\":\"contourcarpet\",\"colorbar\":{\"outlinewidth\":0,\"ticks\":\"\"}}],\"contour\":[{\"type\":\"contour\",\"colorbar\":{\"outlinewidth\":0,\"ticks\":\"\"},\"colorscale\":[[0.0,\"#0d0887\"],[0.1111111111111111,\"#46039f\"],[0.2222222222222222,\"#7201a8\"],[0.3333333333333333,\"#9c179e\"],[0.4444444444444444,\"#bd3786\"],[0.5555555555555556,\"#d8576b\"],[0.6666666666666666,\"#ed7953\"],[0.7777777777777778,\"#fb9f3a\"],[0.8888888888888888,\"#fdca26\"],[1.0,\"#f0f921\"]]}],\"surface\":[{\"type\":\"surface\",\"colorbar\":{\"outlinewidth\":0,\"ticks\":\"\"},\"colorscale\":[[0.0,\"#0d0887\"],[0.1111111111111111,\"#46039f\"],[0.2222222222222222,\"#7201a8\"],[0.3333333333333333,\"#9c179e\"],[0.4444444444444444,\"#bd3786\"],[0.5555555555555556,\"#d8576b\"],[0.6666666666666666,\"#ed7953\"],[0.7777777777777778,\"#fb9f3a\"],[0.8888888888888888,\"#fdca26\"],[1.0,\"#f0f921\"]]}],\"mesh3d\":[{\"type\":\"mesh3d\",\"colorbar\":{\"outlinewidth\":0,\"ticks\":\"\"}}],\"scatter\":[{\"fillpattern\":{\"fillmode\":\"overlay\",\"size\":10,\"solidity\":0.2},\"type\":\"scatter\"}],\"parcoords\":[{\"type\":\"parcoords\",\"line\":{\"colorbar\":{\"outlinewidth\":0,\"ticks\":\"\"}}}],\"scatterpolargl\":[{\"type\":\"scatterpolargl\",\"marker\":{\"colorbar\":{\"outlinewidth\":0,\"ticks\":\"\"}}}],\"bar\":[{\"error_x\":{\"color\":\"#2a3f5f\"},\"error_y\":{\"color\":\"#2a3f5f\"},\"marker\":{\"line\":{\"color\":\"#E5ECF6\",\"width\":0.5},\"pattern\":{\"fillmode\":\"overlay\",\"size\":10,\"solidity\":0.2}},\"type\":\"bar\"}],\"scattergeo\":[{\"type\":\"scattergeo\",\"marker\":{\"colorbar\":{\"outlinewidth\":0,\"ticks\":\"\"}}}],\"scatterpolar\":[{\"type\":\"scatterpolar\",\"marker\":{\"colorbar\":{\"outlinewidth\":0,\"ticks\":\"\"}}}],\"histogram\":[{\"marker\":{\"pattern\":{\"fillmode\":\"overlay\",\"size\":10,\"solidity\":0.2}},\"type\":\"histogram\"}],\"scattergl\":[{\"type\":\"scattergl\",\"marker\":{\"colorbar\":{\"outlinewidth\":0,\"ticks\":\"\"}}}],\"scatter3d\":[{\"type\":\"scatter3d\",\"line\":{\"colorbar\":{\"outlinewidth\":0,\"ticks\":\"\"}},\"marker\":{\"colorbar\":{\"outlinewidth\":0,\"ticks\":\"\"}}}],\"scattermapbox\":[{\"type\":\"scattermapbox\",\"marker\":{\"colorbar\":{\"outlinewidth\":0,\"ticks\":\"\"}}}],\"scatterternary\":[{\"type\":\"scatterternary\",\"marker\":{\"colorbar\":{\"outlinewidth\":0,\"ticks\":\"\"}}}],\"scattercarpet\":[{\"type\":\"scattercarpet\",\"marker\":{\"colorbar\":{\"outlinewidth\":0,\"ticks\":\"\"}}}],\"carpet\":[{\"aaxis\":{\"endlinecolor\":\"#2a3f5f\",\"gridcolor\":\"white\",\"linecolor\":\"white\",\"minorgridcolor\":\"white\",\"startlinecolor\":\"#2a3f5f\"},\"baxis\":{\"endlinecolor\":\"#2a3f5f\",\"gridcolor\":\"white\",\"linecolor\":\"white\",\"minorgridcolor\":\"white\",\"startlinecolor\":\"#2a3f5f\"},\"type\":\"carpet\"}],\"table\":[{\"cells\":{\"fill\":{\"color\":\"#EBF0F8\"},\"line\":{\"color\":\"white\"}},\"header\":{\"fill\":{\"color\":\"#C8D4E3\"},\"line\":{\"color\":\"white\"}},\"type\":\"table\"}],\"barpolar\":[{\"marker\":{\"line\":{\"color\":\"#E5ECF6\",\"width\":0.5},\"pattern\":{\"fillmode\":\"overlay\",\"size\":10,\"solidity\":0.2}},\"type\":\"barpolar\"}],\"pie\":[{\"automargin\":true,\"type\":\"pie\"}]},\"layout\":{\"autotypenumbers\":\"strict\",\"colorway\":[\"#636efa\",\"#EF553B\",\"#00cc96\",\"#ab63fa\",\"#FFA15A\",\"#19d3f3\",\"#FF6692\",\"#B6E880\",\"#FF97FF\",\"#FECB52\"],\"font\":{\"color\":\"#2a3f5f\"},\"hovermode\":\"closest\",\"hoverlabel\":{\"align\":\"left\"},\"paper_bgcolor\":\"white\",\"plot_bgcolor\":\"#E5ECF6\",\"polar\":{\"bgcolor\":\"#E5ECF6\",\"angularaxis\":{\"gridcolor\":\"white\",\"linecolor\":\"white\",\"ticks\":\"\"},\"radialaxis\":{\"gridcolor\":\"white\",\"linecolor\":\"white\",\"ticks\":\"\"}},\"ternary\":{\"bgcolor\":\"#E5ECF6\",\"aaxis\":{\"gridcolor\":\"white\",\"linecolor\":\"white\",\"ticks\":\"\"},\"baxis\":{\"gridcolor\":\"white\",\"linecolor\":\"white\",\"ticks\":\"\"},\"caxis\":{\"gridcolor\":\"white\",\"linecolor\":\"white\",\"ticks\":\"\"}},\"coloraxis\":{\"colorbar\":{\"outlinewidth\":0,\"ticks\":\"\"}},\"colorscale\":{\"sequential\":[[0.0,\"#0d0887\"],[0.1111111111111111,\"#46039f\"],[0.2222222222222222,\"#7201a8\"],[0.3333333333333333,\"#9c179e\"],[0.4444444444444444,\"#bd3786\"],[0.5555555555555556,\"#d8576b\"],[0.6666666666666666,\"#ed7953\"],[0.7777777777777778,\"#fb9f3a\"],[0.8888888888888888,\"#fdca26\"],[1.0,\"#f0f921\"]],\"sequentialminus\":[[0.0,\"#0d0887\"],[0.1111111111111111,\"#46039f\"],[0.2222222222222222,\"#7201a8\"],[0.3333333333333333,\"#9c179e\"],[0.4444444444444444,\"#bd3786\"],[0.5555555555555556,\"#d8576b\"],[0.6666666666666666,\"#ed7953\"],[0.7777777777777778,\"#fb9f3a\"],[0.8888888888888888,\"#fdca26\"],[1.0,\"#f0f921\"]],\"diverging\":[[0,\"#8e0152\"],[0.1,\"#c51b7d\"],[0.2,\"#de77ae\"],[0.3,\"#f1b6da\"],[0.4,\"#fde0ef\"],[0.5,\"#f7f7f7\"],[0.6,\"#e6f5d0\"],[0.7,\"#b8e186\"],[0.8,\"#7fbc41\"],[0.9,\"#4d9221\"],[1,\"#276419\"]]},\"xaxis\":{\"gridcolor\":\"white\",\"linecolor\":\"white\",\"ticks\":\"\",\"title\":{\"standoff\":15},\"zerolinecolor\":\"white\",\"automargin\":true,\"zerolinewidth\":2},\"yaxis\":{\"gridcolor\":\"white\",\"linecolor\":\"white\",\"ticks\":\"\",\"title\":{\"standoff\":15},\"zerolinecolor\":\"white\",\"automargin\":true,\"zerolinewidth\":2},\"scene\":{\"xaxis\":{\"backgroundcolor\":\"#E5ECF6\",\"gridcolor\":\"white\",\"linecolor\":\"white\",\"showbackground\":true,\"ticks\":\"\",\"zerolinecolor\":\"white\",\"gridwidth\":2},\"yaxis\":{\"backgroundcolor\":\"#E5ECF6\",\"gridcolor\":\"white\",\"linecolor\":\"white\",\"showbackground\":true,\"ticks\":\"\",\"zerolinecolor\":\"white\",\"gridwidth\":2},\"zaxis\":{\"backgroundcolor\":\"#E5ECF6\",\"gridcolor\":\"white\",\"linecolor\":\"white\",\"showbackground\":true,\"ticks\":\"\",\"zerolinecolor\":\"white\",\"gridwidth\":2}},\"shapedefaults\":{\"line\":{\"color\":\"#2a3f5f\"}},\"annotationdefaults\":{\"arrowcolor\":\"#2a3f5f\",\"arrowhead\":0,\"arrowwidth\":1},\"geo\":{\"bgcolor\":\"white\",\"landcolor\":\"#E5ECF6\",\"subunitcolor\":\"white\",\"showland\":true,\"showlakes\":true,\"lakecolor\":\"white\"},\"title\":{\"x\":0.05},\"mapbox\":{\"style\":\"light\"}}},\"legend\":{\"tracegroupgap\":0},\"margin\":{\"t\":2,\"l\":2,\"r\":2,\"b\":2},\"font\":{\"family\":\"Times New Roman\",\"size\":10},\"autosize\":false,\"height\":218.26,\"width\":218.26},                        {\"responsive\": true}                    ).then(function(){\n",
       "                            \n",
       "var gd = document.getElementById('e011f2bd-9c7d-4917-90b3-3efc778a3cf8');\n",
       "var x = new MutationObserver(function (mutations, observer) {{\n",
       "        var display = window.getComputedStyle(gd).display;\n",
       "        if (!display || display === 'none') {{\n",
       "            console.log([gd, 'removed!']);\n",
       "            Plotly.purge(gd);\n",
       "            observer.disconnect();\n",
       "        }}\n",
       "}});\n",
       "\n",
       "// Listen for the removal of the full notebook cells\n",
       "var notebookContainer = gd.closest('#notebook-container');\n",
       "if (notebookContainer) {{\n",
       "    x.observe(notebookContainer, {childList: true});\n",
       "}}\n",
       "\n",
       "// Listen for the clearing of the current output cell\n",
       "var outputEl = gd.closest('.output');\n",
       "if (outputEl) {{\n",
       "    x.observe(outputEl, {childList: true});\n",
       "}}\n",
       "\n",
       "                        })                };                });            </script>        </div>"
      ]
     },
     "metadata": {},
     "output_type": "display_data"
    }
   ],
   "source": [
    "import plotly.express as px\n",
    "\n",
    "# Filter data\n",
    "df = df[df[\"count\"] > 30]\n",
    "\n",
    "#ffd066 (light orange)\n",
    "#afc96a (yellow-green)\n",
    "#5ec26e (moderate lime green)\n",
    "\n",
    "#custom_colors = {\n",
    "#    'use': '#ffb347', # other\n",
    "#    'generate': '#ffd066',   # generation\n",
    "#    'identify': '#5ec26e',  # mining\n",
    "#    'rate': '#afc96a',  # assessment\n",
    "#    'evaluate': '#afc96a',  # assessment\n",
    "#}\n",
    "\n",
    "# Generate a list of green-yellow shades\n",
    "color_palette = [\n",
    "    \"#FFAA00\",  # Bright Orange\n",
    "    \"#FFBB33\",  # Golden Orange\n",
    "    \"#FFCC66\",  # Soft Amber\n",
    "    \"#E6A300\",  # Deep Yellow-Orange\n",
    "    \"#D4B300\",  # Olive Yellow\n",
    "    \"#BFAF30\",  # Muted Yellow\n",
    "    \"#A5C300\",  # Yellow-Green\n",
    "    \"#8FC96A\",  # Soft Yellow-Green\n",
    "    \"#A1D700\",  # Vivid Lime Green\n",
    "    \"#85B817\",  # Strong Lime\n",
    "    \"#6DA832\",  # Earthy Green-Yellow\n",
    "    \"#5EB437\",  # Lush Green\n",
    "    \"#49B55A\",  # Moderate Green\n",
    "    \"#3AA85F\",  # Medium Green\n",
    "    \"#2F9A67\",  # Deep Teal-Green\n",
    "    \"#268A6C\",  # Forest Green\n",
    "    \"#1F7D6F\",  # Dark Green-Teal\n",
    "    \"#196E6B\",  # Rich Jungle Green\n",
    "    \"#155F5D\",  # Deep Emerald\n",
    "    \"#104F4C\"   # Dark Forest Green\n",
    "]\n",
    "\n",
    "\n",
    "# Shuffle colors randomly to ensure variation each run\n",
    "random.shuffle(color_palette)\n",
    "\n",
    "# Create a dictionary mapping each unique verb to a unique color\n",
    "unique_verbs = df['verb'].unique()\n",
    "color_map = {verb: color_palette[i % len(color_palette)] for i, verb in enumerate(unique_verbs)}\n",
    "\n",
    "\n",
    "# Create sunburst with verb-based coloring\n",
    "fig = px.sunburst(\n",
    "    df, \n",
    "    path=['verb', 'noun'], \n",
    "    values='count',\n",
    "    color='verb',  # Color by the inner verb\n",
    "    color_discrete_map=color_map  # Use a diverse color palette\n",
    ")\n",
    "\n",
    "# Improve text readability\n",
    "fig.update_traces(\n",
    "    insidetextorientation='radial',  # Auto adjust text orientation\n",
    "    textinfo='label',  # Only show category labels\n",
    "    marker=dict(line=dict(color='white', width=0.5))  # Add borders for better visibility\n",
    ")\n",
    "\n",
    "# Keep original size while improving layout\n",
    "fig.update_layout(\n",
    "    autosize=False,\n",
    "    margin=dict(l=2, r=2, t=2, b=2),  # Minimized margins\n",
    "    font=dict(family=\"Times New Roman\", size=10),  # Adjusted font size\n",
    "    height=218.26,\n",
    "    width=218.26\n",
    ")\n",
    "\n",
    "# Show figure\n",
    "fig.show()\n",
    "\n",
    "# Save as high-quality PDF\n",
    "fig.write_image(file='verb_noun.pdf', format='pdf', scale=3)"
   ]
  },
  {
   "cell_type": "code",
   "execution_count": null,
   "metadata": {},
   "outputs": [],
   "source": []
  }
 ],
 "metadata": {
  "kernelspec": {
   "display_name": "vis",
   "language": "python",
   "name": "vis"
  },
  "language_info": {
   "codemirror_mode": {
    "name": "ipython",
    "version": 3
   },
   "file_extension": ".py",
   "mimetype": "text/x-python",
   "name": "python",
   "nbconvert_exporter": "python",
   "pygments_lexer": "ipython3",
   "version": "3.10.16"
  }
 },
 "nbformat": 4,
 "nbformat_minor": 4
}
